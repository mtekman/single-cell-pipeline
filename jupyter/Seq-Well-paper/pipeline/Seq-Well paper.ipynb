{
 "cells": [
  {
   "cell_type": "code",
   "execution_count": 5,
   "metadata": {},
   "outputs": [],
   "source": [
    "library(scater)\n",
    "library(SingleCellExperiment)\n",
    "\n",
    "# This data was obtained using Illumina NextSeq 5000\n"
   ]
  },
  {
   "cell_type": "code",
   "execution_count": 9,
   "metadata": {
    "collapsed": true
   },
   "outputs": [],
   "source": [
    "human_reads <- read.table(\"../data/matrices_from_RAW/GSM2486329_SpeciesMixing1_HumanReads.txt.gz\")\n",
    "human_umis <- read.table(\"../data/matrices_from_RAW/GSM2486329_SpeciesMixing1_HumanUMI.txt.gz\")"
   ]
  },
  {
   "cell_type": "code",
   "execution_count": 10,
   "metadata": {},
   "outputs": [
    {
     "data": {
      "text/html": [
       "<table>\n",
       "<thead><tr><th></th><th scope=col>Human_1</th><th scope=col>Human_2</th><th scope=col>Human_3</th><th scope=col>Human_4</th><th scope=col>Human_5</th><th scope=col>Human_6</th><th scope=col>Human_7</th><th scope=col>Human_8</th><th scope=col>Human_9</th><th scope=col>Human_10</th><th scope=col>⋯</th><th scope=col>Mouse_154</th><th scope=col>Mouse_155</th><th scope=col>Mouse_156</th><th scope=col>Mouse_157</th><th scope=col>Mouse_158</th><th scope=col>Mouse_159</th><th scope=col>Mouse_160</th><th scope=col>Mouse_161</th><th scope=col>Mouse_162</th><th scope=col>Mouse_163</th></tr></thead>\n",
       "<tbody>\n",
       "\t<tr><th scope=row>A1BG-AS1</th><td>0 </td><td>0 </td><td>0 </td><td> 2</td><td>0 </td><td>4 </td><td> 2</td><td>4 </td><td>0 </td><td>1 </td><td>⋯ </td><td>0 </td><td>0 </td><td>0 </td><td>0 </td><td>0 </td><td>0 </td><td>0 </td><td>0 </td><td>0 </td><td>0 </td></tr>\n",
       "\t<tr><th scope=row>A1CF</th><td>0 </td><td>0 </td><td>0 </td><td> 6</td><td>0 </td><td>0 </td><td> 0</td><td>0 </td><td>0 </td><td>0 </td><td>⋯ </td><td>0 </td><td>0 </td><td>0 </td><td>0 </td><td>0 </td><td>0 </td><td>0 </td><td>0 </td><td>0 </td><td>0 </td></tr>\n",
       "\t<tr><th scope=row>A2M</th><td>0 </td><td>0 </td><td>0 </td><td> 0</td><td>0 </td><td>0 </td><td> 0</td><td>0 </td><td>0 </td><td>1 </td><td>⋯ </td><td>0 </td><td>0 </td><td>0 </td><td>0 </td><td>0 </td><td>0 </td><td>0 </td><td>0 </td><td>0 </td><td>0 </td></tr>\n",
       "\t<tr><th scope=row>A2M-AS1</th><td>0 </td><td>0 </td><td>0 </td><td> 0</td><td>0 </td><td>0 </td><td> 0</td><td>0 </td><td>0 </td><td>0 </td><td>⋯ </td><td>0 </td><td>0 </td><td>0 </td><td>0 </td><td>0 </td><td>0 </td><td>0 </td><td>0 </td><td>0 </td><td>0 </td></tr>\n",
       "\t<tr><th scope=row>AAAS</th><td>6 </td><td>8 </td><td>0 </td><td>11</td><td>0 </td><td>1 </td><td>18</td><td>7 </td><td>6 </td><td>3 </td><td>⋯ </td><td>0 </td><td>0 </td><td>0 </td><td>0 </td><td>0 </td><td>0 </td><td>0 </td><td>0 </td><td>0 </td><td>0 </td></tr>\n",
       "\t<tr><th scope=row>AACS</th><td>2 </td><td>0 </td><td>0 </td><td> 0</td><td>1 </td><td>1 </td><td> 3</td><td>0 </td><td>0 </td><td>0 </td><td>⋯ </td><td>0 </td><td>0 </td><td>0 </td><td>0 </td><td>0 </td><td>0 </td><td>0 </td><td>0 </td><td>0 </td><td>0 </td></tr>\n",
       "</tbody>\n",
       "</table>\n"
      ],
      "text/latex": [
       "\\begin{tabular}{r|llllllllllllllllllllllllllllllllllllllllllllllllllllllllllllllllllllllllllllllllllllllllllllllllllllllllllllllllllllllllllllllllllllllllllllllllllllllllllllllllllllllllllllllllllllllllllllllllllllllllllllllllllllllllllllllllllllllllllllllllllllllllll}\n",
       "  & Human\\_1 & Human\\_2 & Human\\_3 & Human\\_4 & Human\\_5 & Human\\_6 & Human\\_7 & Human\\_8 & Human\\_9 & Human\\_10 & ⋯ & Mouse\\_154 & Mouse\\_155 & Mouse\\_156 & Mouse\\_157 & Mouse\\_158 & Mouse\\_159 & Mouse\\_160 & Mouse\\_161 & Mouse\\_162 & Mouse\\_163\\\\\n",
       "\\hline\n",
       "\tA1BG-AS1 & 0  & 0  & 0  &  2 & 0  & 4  &  2 & 4  & 0  & 1  & ⋯  & 0  & 0  & 0  & 0  & 0  & 0  & 0  & 0  & 0  & 0 \\\\\n",
       "\tA1CF & 0  & 0  & 0  &  6 & 0  & 0  &  0 & 0  & 0  & 0  & ⋯  & 0  & 0  & 0  & 0  & 0  & 0  & 0  & 0  & 0  & 0 \\\\\n",
       "\tA2M & 0  & 0  & 0  &  0 & 0  & 0  &  0 & 0  & 0  & 1  & ⋯  & 0  & 0  & 0  & 0  & 0  & 0  & 0  & 0  & 0  & 0 \\\\\n",
       "\tA2M-AS1 & 0  & 0  & 0  &  0 & 0  & 0  &  0 & 0  & 0  & 0  & ⋯  & 0  & 0  & 0  & 0  & 0  & 0  & 0  & 0  & 0  & 0 \\\\\n",
       "\tAAAS & 6  & 8  & 0  & 11 & 0  & 1  & 18 & 7  & 6  & 3  & ⋯  & 0  & 0  & 0  & 0  & 0  & 0  & 0  & 0  & 0  & 0 \\\\\n",
       "\tAACS & 2  & 0  & 0  &  0 & 1  & 1  &  3 & 0  & 0  & 0  & ⋯  & 0  & 0  & 0  & 0  & 0  & 0  & 0  & 0  & 0  & 0 \\\\\n",
       "\\end{tabular}\n"
      ],
      "text/markdown": [
       "\n",
       "| <!--/--> | Human_1 | Human_2 | Human_3 | Human_4 | Human_5 | Human_6 | Human_7 | Human_8 | Human_9 | Human_10 | ⋯ | Mouse_154 | Mouse_155 | Mouse_156 | Mouse_157 | Mouse_158 | Mouse_159 | Mouse_160 | Mouse_161 | Mouse_162 | Mouse_163 | \n",
       "|---|---|---|---|---|---|\n",
       "| A1BG-AS1 | 0  | 0  | 0  |  2 | 0  | 4  |  2 | 4  | 0  | 1  | ⋯  | 0  | 0  | 0  | 0  | 0  | 0  | 0  | 0  | 0  | 0  | \n",
       "| A1CF | 0  | 0  | 0  |  6 | 0  | 0  |  0 | 0  | 0  | 0  | ⋯  | 0  | 0  | 0  | 0  | 0  | 0  | 0  | 0  | 0  | 0  | \n",
       "| A2M | 0  | 0  | 0  |  0 | 0  | 0  |  0 | 0  | 0  | 1  | ⋯  | 0  | 0  | 0  | 0  | 0  | 0  | 0  | 0  | 0  | 0  | \n",
       "| A2M-AS1 | 0  | 0  | 0  |  0 | 0  | 0  |  0 | 0  | 0  | 0  | ⋯  | 0  | 0  | 0  | 0  | 0  | 0  | 0  | 0  | 0  | 0  | \n",
       "| AAAS | 6  | 8  | 0  | 11 | 0  | 1  | 18 | 7  | 6  | 3  | ⋯  | 0  | 0  | 0  | 0  | 0  | 0  | 0  | 0  | 0  | 0  | \n",
       "| AACS | 2  | 0  | 0  |  0 | 1  | 1  |  3 | 0  | 0  | 0  | ⋯  | 0  | 0  | 0  | 0  | 0  | 0  | 0  | 0  | 0  | 0  | \n",
       "\n",
       "\n"
      ],
      "text/plain": [
       "         Human_1 Human_2 Human_3 Human_4 Human_5 Human_6 Human_7 Human_8\n",
       "A1BG-AS1 0       0       0        2      0       4        2      4      \n",
       "A1CF     0       0       0        6      0       0        0      0      \n",
       "A2M      0       0       0        0      0       0        0      0      \n",
       "A2M-AS1  0       0       0        0      0       0        0      0      \n",
       "AAAS     6       8       0       11      0       1       18      7      \n",
       "AACS     2       0       0        0      1       1        3      0      \n",
       "         Human_9 Human_10 ⋯ Mouse_154 Mouse_155 Mouse_156 Mouse_157 Mouse_158\n",
       "A1BG-AS1 0       1        ⋯ 0         0         0         0         0        \n",
       "A1CF     0       0        ⋯ 0         0         0         0         0        \n",
       "A2M      0       1        ⋯ 0         0         0         0         0        \n",
       "A2M-AS1  0       0        ⋯ 0         0         0         0         0        \n",
       "AAAS     6       3        ⋯ 0         0         0         0         0        \n",
       "AACS     0       0        ⋯ 0         0         0         0         0        \n",
       "         Mouse_159 Mouse_160 Mouse_161 Mouse_162 Mouse_163\n",
       "A1BG-AS1 0         0         0         0         0        \n",
       "A1CF     0         0         0         0         0        \n",
       "A2M      0         0         0         0         0        \n",
       "A2M-AS1  0         0         0         0         0        \n",
       "AAAS     0         0         0         0         0        \n",
       "AACS     0         0         0         0         0        "
      ]
     },
     "metadata": {},
     "output_type": "display_data"
    },
    {
     "data": {
      "text/html": [
       "<table>\n",
       "<thead><tr><th></th><th scope=col>Human_1</th><th scope=col>Human_2</th><th scope=col>Human_3</th><th scope=col>Human_4</th><th scope=col>Human_5</th><th scope=col>Human_6</th><th scope=col>Human_7</th><th scope=col>Human_8</th><th scope=col>Human_9</th><th scope=col>Human_10</th><th scope=col>⋯</th><th scope=col>Mouse_154</th><th scope=col>Mouse_155</th><th scope=col>Mouse_156</th><th scope=col>Mouse_157</th><th scope=col>Mouse_158</th><th scope=col>Mouse_159</th><th scope=col>Mouse_160</th><th scope=col>Mouse_161</th><th scope=col>Mouse_162</th><th scope=col>Mouse_163</th></tr></thead>\n",
       "<tbody>\n",
       "\t<tr><th scope=row>A1BG-AS1</th><td>0</td><td>0</td><td>0</td><td>1</td><td>0</td><td>2</td><td>1</td><td>1</td><td>0</td><td>1</td><td>⋯</td><td>0</td><td>0</td><td>0</td><td>0</td><td>0</td><td>0</td><td>0</td><td>0</td><td>0</td><td>0</td></tr>\n",
       "\t<tr><th scope=row>A1CF</th><td>0</td><td>0</td><td>0</td><td>1</td><td>0</td><td>0</td><td>0</td><td>0</td><td>0</td><td>0</td><td>⋯</td><td>0</td><td>0</td><td>0</td><td>0</td><td>0</td><td>0</td><td>0</td><td>0</td><td>0</td><td>0</td></tr>\n",
       "\t<tr><th scope=row>A2M</th><td>0</td><td>0</td><td>0</td><td>0</td><td>0</td><td>0</td><td>0</td><td>0</td><td>0</td><td>1</td><td>⋯</td><td>0</td><td>0</td><td>0</td><td>0</td><td>0</td><td>0</td><td>0</td><td>0</td><td>0</td><td>0</td></tr>\n",
       "\t<tr><th scope=row>A2M-AS1</th><td>0</td><td>0</td><td>0</td><td>0</td><td>0</td><td>0</td><td>0</td><td>0</td><td>0</td><td>0</td><td>⋯</td><td>0</td><td>0</td><td>0</td><td>0</td><td>0</td><td>0</td><td>0</td><td>0</td><td>0</td><td>0</td></tr>\n",
       "\t<tr><th scope=row>AAAS</th><td>1</td><td>3</td><td>0</td><td>1</td><td>0</td><td>1</td><td>6</td><td>4</td><td>1</td><td>1</td><td>⋯</td><td>0</td><td>0</td><td>0</td><td>0</td><td>0</td><td>0</td><td>0</td><td>0</td><td>0</td><td>0</td></tr>\n",
       "\t<tr><th scope=row>AACS</th><td>1</td><td>0</td><td>0</td><td>0</td><td>1</td><td>1</td><td>1</td><td>0</td><td>0</td><td>0</td><td>⋯</td><td>0</td><td>0</td><td>0</td><td>0</td><td>0</td><td>0</td><td>0</td><td>0</td><td>0</td><td>0</td></tr>\n",
       "</tbody>\n",
       "</table>\n"
      ],
      "text/latex": [
       "\\begin{tabular}{r|llllllllllllllllllllllllllllllllllllllllllllllllllllllllllllllllllllllllllllllllllllllllllllllllllllllllllllllllllllllllllllllllllllllllllllllllllllllllllllllllllllllllllllllllllllllllllllllllllllllllllllllllllllllllllllllllllllllllllllllllllllllllll}\n",
       "  & Human\\_1 & Human\\_2 & Human\\_3 & Human\\_4 & Human\\_5 & Human\\_6 & Human\\_7 & Human\\_8 & Human\\_9 & Human\\_10 & ⋯ & Mouse\\_154 & Mouse\\_155 & Mouse\\_156 & Mouse\\_157 & Mouse\\_158 & Mouse\\_159 & Mouse\\_160 & Mouse\\_161 & Mouse\\_162 & Mouse\\_163\\\\\n",
       "\\hline\n",
       "\tA1BG-AS1 & 0 & 0 & 0 & 1 & 0 & 2 & 1 & 1 & 0 & 1 & ⋯ & 0 & 0 & 0 & 0 & 0 & 0 & 0 & 0 & 0 & 0\\\\\n",
       "\tA1CF & 0 & 0 & 0 & 1 & 0 & 0 & 0 & 0 & 0 & 0 & ⋯ & 0 & 0 & 0 & 0 & 0 & 0 & 0 & 0 & 0 & 0\\\\\n",
       "\tA2M & 0 & 0 & 0 & 0 & 0 & 0 & 0 & 0 & 0 & 1 & ⋯ & 0 & 0 & 0 & 0 & 0 & 0 & 0 & 0 & 0 & 0\\\\\n",
       "\tA2M-AS1 & 0 & 0 & 0 & 0 & 0 & 0 & 0 & 0 & 0 & 0 & ⋯ & 0 & 0 & 0 & 0 & 0 & 0 & 0 & 0 & 0 & 0\\\\\n",
       "\tAAAS & 1 & 3 & 0 & 1 & 0 & 1 & 6 & 4 & 1 & 1 & ⋯ & 0 & 0 & 0 & 0 & 0 & 0 & 0 & 0 & 0 & 0\\\\\n",
       "\tAACS & 1 & 0 & 0 & 0 & 1 & 1 & 1 & 0 & 0 & 0 & ⋯ & 0 & 0 & 0 & 0 & 0 & 0 & 0 & 0 & 0 & 0\\\\\n",
       "\\end{tabular}\n"
      ],
      "text/markdown": [
       "\n",
       "| <!--/--> | Human_1 | Human_2 | Human_3 | Human_4 | Human_5 | Human_6 | Human_7 | Human_8 | Human_9 | Human_10 | ⋯ | Mouse_154 | Mouse_155 | Mouse_156 | Mouse_157 | Mouse_158 | Mouse_159 | Mouse_160 | Mouse_161 | Mouse_162 | Mouse_163 | \n",
       "|---|---|---|---|---|---|\n",
       "| A1BG-AS1 | 0 | 0 | 0 | 1 | 0 | 2 | 1 | 1 | 0 | 1 | ⋯ | 0 | 0 | 0 | 0 | 0 | 0 | 0 | 0 | 0 | 0 | \n",
       "| A1CF | 0 | 0 | 0 | 1 | 0 | 0 | 0 | 0 | 0 | 0 | ⋯ | 0 | 0 | 0 | 0 | 0 | 0 | 0 | 0 | 0 | 0 | \n",
       "| A2M | 0 | 0 | 0 | 0 | 0 | 0 | 0 | 0 | 0 | 1 | ⋯ | 0 | 0 | 0 | 0 | 0 | 0 | 0 | 0 | 0 | 0 | \n",
       "| A2M-AS1 | 0 | 0 | 0 | 0 | 0 | 0 | 0 | 0 | 0 | 0 | ⋯ | 0 | 0 | 0 | 0 | 0 | 0 | 0 | 0 | 0 | 0 | \n",
       "| AAAS | 1 | 3 | 0 | 1 | 0 | 1 | 6 | 4 | 1 | 1 | ⋯ | 0 | 0 | 0 | 0 | 0 | 0 | 0 | 0 | 0 | 0 | \n",
       "| AACS | 1 | 0 | 0 | 0 | 1 | 1 | 1 | 0 | 0 | 0 | ⋯ | 0 | 0 | 0 | 0 | 0 | 0 | 0 | 0 | 0 | 0 | \n",
       "\n",
       "\n"
      ],
      "text/plain": [
       "         Human_1 Human_2 Human_3 Human_4 Human_5 Human_6 Human_7 Human_8\n",
       "A1BG-AS1 0       0       0       1       0       2       1       1      \n",
       "A1CF     0       0       0       1       0       0       0       0      \n",
       "A2M      0       0       0       0       0       0       0       0      \n",
       "A2M-AS1  0       0       0       0       0       0       0       0      \n",
       "AAAS     1       3       0       1       0       1       6       4      \n",
       "AACS     1       0       0       0       1       1       1       0      \n",
       "         Human_9 Human_10 ⋯ Mouse_154 Mouse_155 Mouse_156 Mouse_157 Mouse_158\n",
       "A1BG-AS1 0       1        ⋯ 0         0         0         0         0        \n",
       "A1CF     0       0        ⋯ 0         0         0         0         0        \n",
       "A2M      0       1        ⋯ 0         0         0         0         0        \n",
       "A2M-AS1  0       0        ⋯ 0         0         0         0         0        \n",
       "AAAS     1       1        ⋯ 0         0         0         0         0        \n",
       "AACS     0       0        ⋯ 0         0         0         0         0        \n",
       "         Mouse_159 Mouse_160 Mouse_161 Mouse_162 Mouse_163\n",
       "A1BG-AS1 0         0         0         0         0        \n",
       "A1CF     0         0         0         0         0        \n",
       "A2M      0         0         0         0         0        \n",
       "A2M-AS1  0         0         0         0         0        \n",
       "AAAS     0         0         0         0         0        \n",
       "AACS     0         0         0         0         0        "
      ]
     },
     "metadata": {},
     "output_type": "display_data"
    }
   ],
   "source": [
    "head(human_reads)\n",
    "head(human_umis)"
   ]
  }
 ],
 "metadata": {
  "kernelspec": {
   "display_name": "R 3.3",
   "language": "R",
   "name": "ir33"
  },
  "language_info": {
   "codemirror_mode": "r",
   "file_extension": ".r",
   "mimetype": "text/x-r-source",
   "name": "R",
   "pygments_lexer": "r",
   "version": "3.4.3"
  }
 },
 "nbformat": 4,
 "nbformat_minor": 2
}
