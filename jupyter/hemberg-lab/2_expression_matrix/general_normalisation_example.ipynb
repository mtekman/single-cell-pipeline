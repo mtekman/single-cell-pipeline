{
 "cells": [
  {
   "cell_type": "code",
   "execution_count": 40,
   "metadata": {},
   "outputs": [
    {
     "data": {
      "text/html": [
       "<table>\n",
       "<thead><tr><th></th><th scope=col>cell1</th><th scope=col>cell2</th><th scope=col>cell3</th><th scope=col>cell4</th><th scope=col>cell5</th><th scope=col>cell6</th><th scope=col>cell7</th><th scope=col>cell8</th><th scope=col>cell9</th><th scope=col>cell10</th></tr></thead>\n",
       "<tbody>\n",
       "\t<tr><th scope=row>gene1</th><td>20</td><td> 5</td><td> 9</td><td> 8</td><td>13</td><td>14</td><td>10</td><td> 7</td><td>12</td><td>11</td></tr>\n",
       "\t<tr><th scope=row>gene2</th><td>11</td><td>11</td><td>11</td><td> 7</td><td>11</td><td>11</td><td>10</td><td>11</td><td>18</td><td> 7</td></tr>\n",
       "\t<tr><th scope=row>gene3</th><td>10</td><td> 9</td><td> 7</td><td>11</td><td> 9</td><td> 7</td><td>13</td><td> 9</td><td>10</td><td>11</td></tr>\n",
       "\t<tr><th scope=row>gene4</th><td> 4</td><td> 7</td><td>11</td><td>11</td><td>14</td><td> 7</td><td>14</td><td>15</td><td>11</td><td>10</td></tr>\n",
       "\t<tr><th scope=row>gene5</th><td>10</td><td> 2</td><td>10</td><td>12</td><td> 7</td><td>10</td><td>11</td><td> 5</td><td>12</td><td> 7</td></tr>\n",
       "\t<tr><th scope=row>gene6</th><td> 5</td><td> 4</td><td>14</td><td>11</td><td>12</td><td>12</td><td> 6</td><td> 9</td><td>12</td><td> 8</td></tr>\n",
       "</tbody>\n",
       "</table>\n"
      ],
      "text/latex": [
       "\\begin{tabular}{r|llllllllll}\n",
       "  & cell1 & cell2 & cell3 & cell4 & cell5 & cell6 & cell7 & cell8 & cell9 & cell10\\\\\n",
       "\\hline\n",
       "\tgene1 & 20 &  5 &  9 &  8 & 13 & 14 & 10 &  7 & 12 & 11\\\\\n",
       "\tgene2 & 11 & 11 & 11 &  7 & 11 & 11 & 10 & 11 & 18 &  7\\\\\n",
       "\tgene3 & 10 &  9 &  7 & 11 &  9 &  7 & 13 &  9 & 10 & 11\\\\\n",
       "\tgene4 &  4 &  7 & 11 & 11 & 14 &  7 & 14 & 15 & 11 & 10\\\\\n",
       "\tgene5 & 10 &  2 & 10 & 12 &  7 & 10 & 11 &  5 & 12 &  7\\\\\n",
       "\tgene6 &  5 &  4 & 14 & 11 & 12 & 12 &  6 &  9 & 12 &  8\\\\\n",
       "\\end{tabular}\n"
      ],
      "text/markdown": [
       "\n",
       "| <!--/--> | cell1 | cell2 | cell3 | cell4 | cell5 | cell6 | cell7 | cell8 | cell9 | cell10 | \n",
       "|---|---|---|---|---|---|\n",
       "| gene1 | 20 |  5 |  9 |  8 | 13 | 14 | 10 |  7 | 12 | 11 | \n",
       "| gene2 | 11 | 11 | 11 |  7 | 11 | 11 | 10 | 11 | 18 |  7 | \n",
       "| gene3 | 10 |  9 |  7 | 11 |  9 |  7 | 13 |  9 | 10 | 11 | \n",
       "| gene4 |  4 |  7 | 11 | 11 | 14 |  7 | 14 | 15 | 11 | 10 | \n",
       "| gene5 | 10 |  2 | 10 | 12 |  7 | 10 | 11 |  5 | 12 |  7 | \n",
       "| gene6 |  5 |  4 | 14 | 11 | 12 | 12 |  6 |  9 | 12 |  8 | \n",
       "\n",
       "\n"
      ],
      "text/plain": [
       "      cell1 cell2 cell3 cell4 cell5 cell6 cell7 cell8 cell9 cell10\n",
       "gene1 20     5     9     8    13    14    10     7    12    11    \n",
       "gene2 11    11    11     7    11    11    10    11    18     7    \n",
       "gene3 10     9     7    11     9     7    13     9    10    11    \n",
       "gene4  4     7    11    11    14     7    14    15    11    10    \n",
       "gene5 10     2    10    12     7    10    11     5    12     7    \n",
       "gene6  5     4    14    11    12    12     6     9    12     8    "
      ]
     },
     "metadata": {},
     "output_type": "display_data"
    }
   ],
   "source": [
    "library(SingleCellExperiment)\n",
    "\n",
    "first_n_genes = 10\n",
    "first_n_cells = 10\n",
    "\n",
    "lcounts <- matrix(rpois(100, lambda = 10), \n",
    "                  ncol=first_n_cells, nrow=first_n_genes)\n",
    "\n",
    "rownames(lcounts) <- paste(\"gene\", 1:first_n_genes, sep = \"\")\n",
    "colnames(lcounts) <- paste(\"cell\", 1:first_n_cells, sep = \"\")\n",
    "\n",
    "sce <- SingleCellExperiment(\n",
    "    assays = list(counts = lcounts),\n",
    "    rowData = data.frame(\n",
    "        gene_names = paste(\"gene_name\", 1:first_n_genes, sep = \"\")),\n",
    "    colData = data.frame(\n",
    "        cell_names = paste(\"cell_name\", 1:first_n_cells, sep = \"\"))\n",
    ")\n",
    "head(counts(sce))"
   ]
  },
  {
   "cell_type": "code",
   "execution_count": 29,
   "metadata": {},
   "outputs": [],
   "source": [
    "# Normalisation -- SCnorm\n",
    "\n",
    "# SCnorm cannot be used on datasets with > 80% zero counts\n",
    "# We should also check for the relationship between expression counts\n",
    "#  and sequencing depth, so that if all genes have a similar relationship\n",
    "#  then we can use a global normalisation strategy such as median-by-the-ratio\n",
    "#  used in DESeq, TMM, or edgeR.\n",
    "#library(SCnorm)\n",
    "\n",
    "#countdepthEst <- plotCountDepth(Data = counts(sce))\n",
    "\n",
    "# normcounts(sce) <- log2(counts(sce) + 1)\n"
   ]
  },
  {
   "cell_type": "code",
   "execution_count": 41,
   "metadata": {},
   "outputs": [
    {
     "data": {
      "text/html": [
       "<table>\n",
       "<thead><tr><th></th><th scope=col>cell1</th><th scope=col>cell2</th><th scope=col>cell3</th><th scope=col>cell4</th><th scope=col>cell5</th><th scope=col>cell6</th><th scope=col>cell7</th><th scope=col>cell8</th><th scope=col>cell9</th><th scope=col>cell10</th></tr></thead>\n",
       "<tbody>\n",
       "\t<tr><th scope=row>gene1</th><td>4.392317</td><td>2.584963</td><td>3.321928</td><td>3.169925</td><td>3.807355</td><td>3.906891</td><td>3.459432</td><td>3.000000</td><td>3.700440</td><td>3.584963</td></tr>\n",
       "\t<tr><th scope=row>gene2</th><td>3.584963</td><td>3.584963</td><td>3.584963</td><td>3.000000</td><td>3.584963</td><td>3.584963</td><td>3.459432</td><td>3.584963</td><td>4.247928</td><td>3.000000</td></tr>\n",
       "\t<tr><th scope=row>gene3</th><td>3.459432</td><td>3.321928</td><td>3.000000</td><td>3.584963</td><td>3.321928</td><td>3.000000</td><td>3.807355</td><td>3.321928</td><td>3.459432</td><td>3.584963</td></tr>\n",
       "\t<tr><th scope=row>gene4</th><td>2.321928</td><td>3.000000</td><td>3.584963</td><td>3.584963</td><td>3.906891</td><td>3.000000</td><td>3.906891</td><td>4.000000</td><td>3.584963</td><td>3.459432</td></tr>\n",
       "\t<tr><th scope=row>gene5</th><td>3.459432</td><td>1.584963</td><td>3.459432</td><td>3.700440</td><td>3.000000</td><td>3.459432</td><td>3.584963</td><td>2.584963</td><td>3.700440</td><td>3.000000</td></tr>\n",
       "\t<tr><th scope=row>gene6</th><td>2.584963</td><td>2.321928</td><td>3.906891</td><td>3.584963</td><td>3.700440</td><td>3.700440</td><td>2.807355</td><td>3.321928</td><td>3.700440</td><td>3.169925</td></tr>\n",
       "</tbody>\n",
       "</table>\n"
      ],
      "text/latex": [
       "\\begin{tabular}{r|llllllllll}\n",
       "  & cell1 & cell2 & cell3 & cell4 & cell5 & cell6 & cell7 & cell8 & cell9 & cell10\\\\\n",
       "\\hline\n",
       "\tgene1 & 4.392317 & 2.584963 & 3.321928 & 3.169925 & 3.807355 & 3.906891 & 3.459432 & 3.000000 & 3.700440 & 3.584963\\\\\n",
       "\tgene2 & 3.584963 & 3.584963 & 3.584963 & 3.000000 & 3.584963 & 3.584963 & 3.459432 & 3.584963 & 4.247928 & 3.000000\\\\\n",
       "\tgene3 & 3.459432 & 3.321928 & 3.000000 & 3.584963 & 3.321928 & 3.000000 & 3.807355 & 3.321928 & 3.459432 & 3.584963\\\\\n",
       "\tgene4 & 2.321928 & 3.000000 & 3.584963 & 3.584963 & 3.906891 & 3.000000 & 3.906891 & 4.000000 & 3.584963 & 3.459432\\\\\n",
       "\tgene5 & 3.459432 & 1.584963 & 3.459432 & 3.700440 & 3.000000 & 3.459432 & 3.584963 & 2.584963 & 3.700440 & 3.000000\\\\\n",
       "\tgene6 & 2.584963 & 2.321928 & 3.906891 & 3.584963 & 3.700440 & 3.700440 & 2.807355 & 3.321928 & 3.700440 & 3.169925\\\\\n",
       "\\end{tabular}\n"
      ],
      "text/markdown": [
       "\n",
       "| <!--/--> | cell1 | cell2 | cell3 | cell4 | cell5 | cell6 | cell7 | cell8 | cell9 | cell10 | \n",
       "|---|---|---|---|---|---|\n",
       "| gene1 | 4.392317 | 2.584963 | 3.321928 | 3.169925 | 3.807355 | 3.906891 | 3.459432 | 3.000000 | 3.700440 | 3.584963 | \n",
       "| gene2 | 3.584963 | 3.584963 | 3.584963 | 3.000000 | 3.584963 | 3.584963 | 3.459432 | 3.584963 | 4.247928 | 3.000000 | \n",
       "| gene3 | 3.459432 | 3.321928 | 3.000000 | 3.584963 | 3.321928 | 3.000000 | 3.807355 | 3.321928 | 3.459432 | 3.584963 | \n",
       "| gene4 | 2.321928 | 3.000000 | 3.584963 | 3.584963 | 3.906891 | 3.000000 | 3.906891 | 4.000000 | 3.584963 | 3.459432 | \n",
       "| gene5 | 3.459432 | 1.584963 | 3.459432 | 3.700440 | 3.000000 | 3.459432 | 3.584963 | 2.584963 | 3.700440 | 3.000000 | \n",
       "| gene6 | 2.584963 | 2.321928 | 3.906891 | 3.584963 | 3.700440 | 3.700440 | 2.807355 | 3.321928 | 3.700440 | 3.169925 | \n",
       "\n",
       "\n"
      ],
      "text/plain": [
       "      cell1    cell2    cell3    cell4    cell5    cell6    cell7    cell8   \n",
       "gene1 4.392317 2.584963 3.321928 3.169925 3.807355 3.906891 3.459432 3.000000\n",
       "gene2 3.584963 3.584963 3.584963 3.000000 3.584963 3.584963 3.459432 3.584963\n",
       "gene3 3.459432 3.321928 3.000000 3.584963 3.321928 3.000000 3.807355 3.321928\n",
       "gene4 2.321928 3.000000 3.584963 3.584963 3.906891 3.000000 3.906891 4.000000\n",
       "gene5 3.459432 1.584963 3.459432 3.700440 3.000000 3.459432 3.584963 2.584963\n",
       "gene6 2.584963 2.321928 3.906891 3.584963 3.700440 3.700440 2.807355 3.321928\n",
       "      cell9    cell10  \n",
       "gene1 3.700440 3.584963\n",
       "gene2 4.247928 3.000000\n",
       "gene3 3.459432 3.584963\n",
       "gene4 3.584963 3.459432\n",
       "gene5 3.700440 3.000000\n",
       "gene6 3.700440 3.169925"
      ]
     },
     "metadata": {},
     "output_type": "display_data"
    }
   ],
   "source": [
    "# Normalisation -- regular\n",
    "\n",
    "normcounts(sce) <- log2(counts(sce) + 1)\n",
    "head(normcounts(sce))"
   ]
  }
 ],
 "metadata": {
  "kernelspec": {
   "display_name": "R",
   "language": "R",
   "name": "ir"
  },
  "language_info": {
   "codemirror_mode": "r",
   "file_extension": ".r",
   "mimetype": "text/x-r-source",
   "name": "R",
   "pygments_lexer": "r",
   "version": "3.4.3"
  }
 },
 "nbformat": 4,
 "nbformat_minor": 2
}
