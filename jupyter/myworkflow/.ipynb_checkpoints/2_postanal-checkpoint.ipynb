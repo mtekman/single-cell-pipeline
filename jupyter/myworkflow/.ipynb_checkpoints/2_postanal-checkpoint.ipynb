{
 "cells": [
  {
   "cell_type": "code",
   "execution_count": 2,
   "metadata": {},
   "outputs": [],
   "source": [
    "library(scater)\n",
    "library(SingleCellExperiment)"
   ]
  },
  {
   "cell_type": "code",
   "execution_count": 9,
   "metadata": {
    "collapsed": true
   },
   "outputs": [],
   "source": [
    "#Load data\n",
    "dset = 11\n",
    "\n",
    "counts_raw <- read.table(\n",
    "    paste(\"/extra/sebastian_arnolds/analysis/trim/star_\", dset, \"/counts_matrix.tsv\", sep=\"\"), \n",
    "    sep=\"\\t\"\n",
    ")\n",
    "\n",
    "barcodes_vector <- as.vector(\n",
    "    read.table(\n",
    "        paste(\"/extra/sebastian_arnolds/analysis/celseq_barcodes_raw_\", dset, \".txt\", sep=\"\")\n",
    "    )[, 1])\n",
    "\n",
    "count_matrix <- as.matrix(counts_raw[, bc])"
   ]
  },
  {
   "cell_type": "code",
   "execution_count": 34,
   "metadata": {},
   "outputs": [],
   "source": [
    "# Change labels for genes of interest\n",
    "rownames(count_matrix)[which(rownames(count_matrix) == \"ENSMUSG00000062327\")] <- \"Brachyury\"\n",
    "rownames(count_matrix)[which(rownames(count_matrix) == \"ENSMUSG00000032446\")] <- \"Eomes\"\n",
    "rownames(count_matrix)[which(rownames(count_matrix) == \"ENSMUSG00000030544\")] <- \"Mesp1\"\n",
    "rownames(count_matrix)[which(rownames(count_matrix) == \"ENSMUSG00000024406\")] <- \"Pou5f1\"\n",
    "rownames(count_matrix)[which(rownames(count_matrix) == \"ENSMUSG00000012396\")] <- \"nanog\"\n",
    "rownames(count_matrix)[which(rownames(count_matrix) == \"ENSMUSG00000096014\")] <- \"Sox1\"\n",
    "rownames(count_matrix)[which(rownames(count_matrix) == \"ENSMUSG00000074637\")] <- \"Sox2\"\n",
    "rownames(count_matrix)[which(rownames(count_matrix) == \"ENSMUSG00000090125\")] <- \"Pou3f1\"\n",
    "rownames(count_matrix)[which(rownames(count_matrix) == \"ENSMUSG00000060206\")] <- \"zfp462\"\n",
    "rownames(count_matrix)[which(rownames(count_matrix) == \"ENSMUSG00000031297\")] <- \"slc7a3\""
   ]
  },
  {
   "cell_type": "code",
   "execution_count": 47,
   "metadata": {},
   "outputs": [
    {
     "data": {
      "text/html": [
       "<table>\n",
       "<thead><tr><th></th><th scope=col>AGTGTC</th><th scope=col>ACCATG</th><th scope=col>GAGTGA</th><th scope=col>CACTCA</th><th scope=col>CATGTC</th><th scope=col>ACAGGA</th><th scope=col>GTACCA</th><th scope=col>ACAGAC</th><th scope=col>ACGTTG</th><th scope=col>ACCAAC</th><th scope=col>⋯</th><th scope=col>ACAAGC</th><th scope=col>TGAAGG</th><th scope=col>TAACGG</th><th scope=col>AACCTC</th><th scope=col>CGTCTA</th><th scope=col>CCATAG</th><th scope=col>TTCCAG</th><th scope=col>GGACAA</th><th scope=col>ACTTCG</th><th scope=col>TTGTGC</th></tr></thead>\n",
       "<tbody>\n",
       "\t<tr><th scope=row>ENSMUSG00000000001</th><td>0 </td><td>3 </td><td>2 </td><td>2 </td><td>5 </td><td>7 </td><td>6 </td><td>2 </td><td>0 </td><td>9 </td><td>⋯ </td><td>0 </td><td>5 </td><td>3 </td><td>3 </td><td>2 </td><td>2 </td><td>6 </td><td> 0</td><td>0 </td><td>4 </td></tr>\n",
       "\t<tr><th scope=row>ENSMUSG00000000028</th><td>0 </td><td>0 </td><td>1 </td><td>0 </td><td>0 </td><td>0 </td><td>1 </td><td>0 </td><td>0 </td><td>2 </td><td>⋯ </td><td>0 </td><td>2 </td><td>0 </td><td>0 </td><td>1 </td><td>1 </td><td>0 </td><td> 0</td><td>0 </td><td>1 </td></tr>\n",
       "\t<tr><th scope=row>ENSMUSG00000000031</th><td>0 </td><td>0 </td><td>0 </td><td>0 </td><td>3 </td><td>2 </td><td>1 </td><td>1 </td><td>0 </td><td>0 </td><td>⋯ </td><td>0 </td><td>0 </td><td>0 </td><td>1 </td><td>1 </td><td>7 </td><td>1 </td><td>57</td><td>0 </td><td>0 </td></tr>\n",
       "\t<tr><th scope=row>ENSMUSG00000000037</th><td>0 </td><td>0 </td><td>0 </td><td>0 </td><td>0 </td><td>0 </td><td>0 </td><td>0 </td><td>0 </td><td>0 </td><td>⋯ </td><td>0 </td><td>0 </td><td>0 </td><td>0 </td><td>0 </td><td>1 </td><td>0 </td><td> 0</td><td>0 </td><td>0 </td></tr>\n",
       "\t<tr><th scope=row>ENSMUSG00000000056</th><td>0 </td><td>0 </td><td>0 </td><td>0 </td><td>0 </td><td>1 </td><td>0 </td><td>0 </td><td>0 </td><td>0 </td><td>⋯ </td><td>0 </td><td>0 </td><td>0 </td><td>0 </td><td>0 </td><td>0 </td><td>0 </td><td> 0</td><td>0 </td><td>1 </td></tr>\n",
       "\t<tr><th scope=row>ENSMUSG00000000058</th><td>0 </td><td>0 </td><td>0 </td><td>1 </td><td>0 </td><td>0 </td><td>0 </td><td>0 </td><td>0 </td><td>0 </td><td>⋯ </td><td>0 </td><td>0 </td><td>0 </td><td>0 </td><td>0 </td><td>0 </td><td>0 </td><td> 0</td><td>0 </td><td>0 </td></tr>\n",
       "</tbody>\n",
       "</table>\n"
      ],
      "text/latex": [
       "\\begin{tabular}{r|llllllllllllllllllllllllllllllllllllllllllllllllllllllllllllllllllllllllllllllllllllllllllllllll}\n",
       "  & AGTGTC & ACCATG & GAGTGA & CACTCA & CATGTC & ACAGGA & GTACCA & ACAGAC & ACGTTG & ACCAAC & ⋯ & ACAAGC & TGAAGG & TAACGG & AACCTC & CGTCTA & CCATAG & TTCCAG & GGACAA & ACTTCG & TTGTGC\\\\\n",
       "\\hline\n",
       "\tENSMUSG00000000001 & 0  & 3  & 2  & 2  & 5  & 7  & 6  & 2  & 0  & 9  & ⋯  & 0  & 5  & 3  & 3  & 2  & 2  & 6  &  0 & 0  & 4 \\\\\n",
       "\tENSMUSG00000000028 & 0  & 0  & 1  & 0  & 0  & 0  & 1  & 0  & 0  & 2  & ⋯  & 0  & 2  & 0  & 0  & 1  & 1  & 0  &  0 & 0  & 1 \\\\\n",
       "\tENSMUSG00000000031 & 0  & 0  & 0  & 0  & 3  & 2  & 1  & 1  & 0  & 0  & ⋯  & 0  & 0  & 0  & 1  & 1  & 7  & 1  & 57 & 0  & 0 \\\\\n",
       "\tENSMUSG00000000037 & 0  & 0  & 0  & 0  & 0  & 0  & 0  & 0  & 0  & 0  & ⋯  & 0  & 0  & 0  & 0  & 0  & 1  & 0  &  0 & 0  & 0 \\\\\n",
       "\tENSMUSG00000000056 & 0  & 0  & 0  & 0  & 0  & 1  & 0  & 0  & 0  & 0  & ⋯  & 0  & 0  & 0  & 0  & 0  & 0  & 0  &  0 & 0  & 1 \\\\\n",
       "\tENSMUSG00000000058 & 0  & 0  & 0  & 1  & 0  & 0  & 0  & 0  & 0  & 0  & ⋯  & 0  & 0  & 0  & 0  & 0  & 0  & 0  &  0 & 0  & 0 \\\\\n",
       "\\end{tabular}\n"
      ],
      "text/markdown": [
       "\n",
       "| <!--/--> | AGTGTC | ACCATG | GAGTGA | CACTCA | CATGTC | ACAGGA | GTACCA | ACAGAC | ACGTTG | ACCAAC | ⋯ | ACAAGC | TGAAGG | TAACGG | AACCTC | CGTCTA | CCATAG | TTCCAG | GGACAA | ACTTCG | TTGTGC | \n",
       "|---|---|---|---|---|---|\n",
       "| ENSMUSG00000000001 | 0  | 3  | 2  | 2  | 5  | 7  | 6  | 2  | 0  | 9  | ⋯  | 0  | 5  | 3  | 3  | 2  | 2  | 6  |  0 | 0  | 4  | \n",
       "| ENSMUSG00000000028 | 0  | 0  | 1  | 0  | 0  | 0  | 1  | 0  | 0  | 2  | ⋯  | 0  | 2  | 0  | 0  | 1  | 1  | 0  |  0 | 0  | 1  | \n",
       "| ENSMUSG00000000031 | 0  | 0  | 0  | 0  | 3  | 2  | 1  | 1  | 0  | 0  | ⋯  | 0  | 0  | 0  | 1  | 1  | 7  | 1  | 57 | 0  | 0  | \n",
       "| ENSMUSG00000000037 | 0  | 0  | 0  | 0  | 0  | 0  | 0  | 0  | 0  | 0  | ⋯  | 0  | 0  | 0  | 0  | 0  | 1  | 0  |  0 | 0  | 0  | \n",
       "| ENSMUSG00000000056 | 0  | 0  | 0  | 0  | 0  | 1  | 0  | 0  | 0  | 0  | ⋯  | 0  | 0  | 0  | 0  | 0  | 0  | 0  |  0 | 0  | 1  | \n",
       "| ENSMUSG00000000058 | 0  | 0  | 0  | 1  | 0  | 0  | 0  | 0  | 0  | 0  | ⋯  | 0  | 0  | 0  | 0  | 0  | 0  | 0  |  0 | 0  | 0  | \n",
       "\n",
       "\n"
      ],
      "text/plain": [
       "                   AGTGTC ACCATG GAGTGA CACTCA CATGTC ACAGGA GTACCA ACAGAC\n",
       "ENSMUSG00000000001 0      3      2      2      5      7      6      2     \n",
       "ENSMUSG00000000028 0      0      1      0      0      0      1      0     \n",
       "ENSMUSG00000000031 0      0      0      0      3      2      1      1     \n",
       "ENSMUSG00000000037 0      0      0      0      0      0      0      0     \n",
       "ENSMUSG00000000056 0      0      0      0      0      1      0      0     \n",
       "ENSMUSG00000000058 0      0      0      1      0      0      0      0     \n",
       "                   ACGTTG ACCAAC ⋯ ACAAGC TGAAGG TAACGG AACCTC CGTCTA CCATAG\n",
       "ENSMUSG00000000001 0      9      ⋯ 0      5      3      3      2      2     \n",
       "ENSMUSG00000000028 0      2      ⋯ 0      2      0      0      1      1     \n",
       "ENSMUSG00000000031 0      0      ⋯ 0      0      0      1      1      7     \n",
       "ENSMUSG00000000037 0      0      ⋯ 0      0      0      0      0      1     \n",
       "ENSMUSG00000000056 0      0      ⋯ 0      0      0      0      0      0     \n",
       "ENSMUSG00000000058 0      0      ⋯ 0      0      0      0      0      0     \n",
       "                   TTCCAG GGACAA ACTTCG TTGTGC\n",
       "ENSMUSG00000000001 6       0     0      4     \n",
       "ENSMUSG00000000028 0       0     0      1     \n",
       "ENSMUSG00000000031 1      57     0      0     \n",
       "ENSMUSG00000000037 0       0     0      0     \n",
       "ENSMUSG00000000056 0       0     0      1     \n",
       "ENSMUSG00000000058 0       0     0      0     "
      ]
     },
     "metadata": {},
     "output_type": "display_data"
    },
    {
     "data": {
      "text/html": [
       "<table>\n",
       "<thead><tr><th></th><th scope=col>AGTGTC</th><th scope=col>ACCATG</th><th scope=col>GAGTGA</th><th scope=col>CACTCA</th><th scope=col>CATGTC</th><th scope=col>ACAGGA</th><th scope=col>GTACCA</th><th scope=col>ACAGAC</th><th scope=col>ACGTTG</th><th scope=col>ACCAAC</th><th scope=col>⋯</th><th scope=col>ACAAGC</th><th scope=col>TGAAGG</th><th scope=col>TAACGG</th><th scope=col>AACCTC</th><th scope=col>CGTCTA</th><th scope=col>CCATAG</th><th scope=col>TTCCAG</th><th scope=col>GGACAA</th><th scope=col>ACTTCG</th><th scope=col>TTGTGC</th></tr></thead>\n",
       "<tbody>\n",
       "\t<tr><th scope=row>nanog</th><td>0 </td><td>12</td><td>1 </td><td>2 </td><td>6 </td><td> 2</td><td> 3</td><td>1 </td><td>0 </td><td> 4</td><td>⋯ </td><td>0 </td><td>5 </td><td>2 </td><td> 1</td><td> 9</td><td> 3</td><td> 3</td><td>0 </td><td>0 </td><td> 3</td></tr>\n",
       "\t<tr><th scope=row>Pou5f1</th><td>0 </td><td> 1</td><td>0 </td><td>2 </td><td>1 </td><td> 4</td><td> 3</td><td>0 </td><td>0 </td><td> 4</td><td>⋯ </td><td>0 </td><td>2 </td><td>0 </td><td> 1</td><td> 2</td><td> 4</td><td> 1</td><td>0 </td><td>0 </td><td> 1</td></tr>\n",
       "\t<tr><th scope=row>slc7a3</th><td>0 </td><td> 7</td><td>2 </td><td>1 </td><td>3 </td><td>18</td><td>29</td><td>6 </td><td>1 </td><td>36</td><td>⋯ </td><td>0 </td><td>1 </td><td>0 </td><td>15</td><td> 0</td><td> 2</td><td>18</td><td>0 </td><td>0 </td><td> 8</td></tr>\n",
       "\t<tr><th scope=row>Eomes</th><td>0 </td><td>17</td><td>3 </td><td>2 </td><td>7 </td><td> 1</td><td> 1</td><td>0 </td><td>0 </td><td> 0</td><td>⋯ </td><td>0 </td><td>1 </td><td>0 </td><td> 0</td><td>13</td><td>13</td><td> 1</td><td>0 </td><td>0 </td><td> 1</td></tr>\n",
       "\t<tr><th scope=row>zfp462</th><td>0 </td><td> 2</td><td>1 </td><td>0 </td><td>7 </td><td> 7</td><td> 7</td><td>0 </td><td>0 </td><td>11</td><td>⋯ </td><td>0 </td><td>1 </td><td>1 </td><td> 1</td><td> 0</td><td> 6</td><td> 5</td><td>0 </td><td>1 </td><td> 6</td></tr>\n",
       "\t<tr><th scope=row>Brachyury</th><td>0 </td><td> 0</td><td>2 </td><td>0 </td><td>0 </td><td> 0</td><td> 0</td><td>0 </td><td>0 </td><td> 0</td><td>⋯ </td><td>0 </td><td>6 </td><td>1 </td><td> 0</td><td> 9</td><td> 1</td><td> 0</td><td>0 </td><td>0 </td><td> 0</td></tr>\n",
       "\t<tr><th scope=row>Sox2</th><td>0 </td><td> 0</td><td>0 </td><td>1 </td><td>3 </td><td> 7</td><td> 4</td><td>0 </td><td>2 </td><td> 7</td><td>⋯ </td><td>0 </td><td>0 </td><td>0 </td><td> 0</td><td> 0</td><td> 0</td><td>11</td><td>0 </td><td>1 </td><td> 4</td></tr>\n",
       "\t<tr><th scope=row>Pou3f1</th><td>3 </td><td>20</td><td>6 </td><td>6 </td><td>5 </td><td>18</td><td>18</td><td>0 </td><td>6 </td><td>20</td><td>⋯ </td><td>0 </td><td>4 </td><td>1 </td><td> 5</td><td> 0</td><td> 2</td><td> 6</td><td>0 </td><td>1 </td><td>11</td></tr>\n",
       "</tbody>\n",
       "</table>\n"
      ],
      "text/latex": [
       "\\begin{tabular}{r|llllllllllllllllllllllllllllllllllllllllllllllllllllllllllllllllllllllllllllllllllllllllllllllll}\n",
       "  & AGTGTC & ACCATG & GAGTGA & CACTCA & CATGTC & ACAGGA & GTACCA & ACAGAC & ACGTTG & ACCAAC & ⋯ & ACAAGC & TGAAGG & TAACGG & AACCTC & CGTCTA & CCATAG & TTCCAG & GGACAA & ACTTCG & TTGTGC\\\\\n",
       "\\hline\n",
       "\tnanog & 0  & 12 & 1  & 2  & 6  &  2 &  3 & 1  & 0  &  4 & ⋯  & 0  & 5  & 2  &  1 &  9 &  3 &  3 & 0  & 0  &  3\\\\\n",
       "\tPou5f1 & 0  &  1 & 0  & 2  & 1  &  4 &  3 & 0  & 0  &  4 & ⋯  & 0  & 2  & 0  &  1 &  2 &  4 &  1 & 0  & 0  &  1\\\\\n",
       "\tslc7a3 & 0  &  7 & 2  & 1  & 3  & 18 & 29 & 6  & 1  & 36 & ⋯  & 0  & 1  & 0  & 15 &  0 &  2 & 18 & 0  & 0  &  8\\\\\n",
       "\tEomes & 0  & 17 & 3  & 2  & 7  &  1 &  1 & 0  & 0  &  0 & ⋯  & 0  & 1  & 0  &  0 & 13 & 13 &  1 & 0  & 0  &  1\\\\\n",
       "\tzfp462 & 0  &  2 & 1  & 0  & 7  &  7 &  7 & 0  & 0  & 11 & ⋯  & 0  & 1  & 1  &  1 &  0 &  6 &  5 & 0  & 1  &  6\\\\\n",
       "\tBrachyury & 0  &  0 & 2  & 0  & 0  &  0 &  0 & 0  & 0  &  0 & ⋯  & 0  & 6  & 1  &  0 &  9 &  1 &  0 & 0  & 0  &  0\\\\\n",
       "\tSox2 & 0  &  0 & 0  & 1  & 3  &  7 &  4 & 0  & 2  &  7 & ⋯  & 0  & 0  & 0  &  0 &  0 &  0 & 11 & 0  & 1  &  4\\\\\n",
       "\tPou3f1 & 3  & 20 & 6  & 6  & 5  & 18 & 18 & 0  & 6  & 20 & ⋯  & 0  & 4  & 1  &  5 &  0 &  2 &  6 & 0  & 1  & 11\\\\\n",
       "\\end{tabular}\n"
      ],
      "text/markdown": [
       "\n",
       "| <!--/--> | AGTGTC | ACCATG | GAGTGA | CACTCA | CATGTC | ACAGGA | GTACCA | ACAGAC | ACGTTG | ACCAAC | ⋯ | ACAAGC | TGAAGG | TAACGG | AACCTC | CGTCTA | CCATAG | TTCCAG | GGACAA | ACTTCG | TTGTGC | \n",
       "|---|---|---|---|---|---|---|---|\n",
       "| nanog | 0  | 12 | 1  | 2  | 6  |  2 |  3 | 1  | 0  |  4 | ⋯  | 0  | 5  | 2  |  1 |  9 |  3 |  3 | 0  | 0  |  3 | \n",
       "| Pou5f1 | 0  |  1 | 0  | 2  | 1  |  4 |  3 | 0  | 0  |  4 | ⋯  | 0  | 2  | 0  |  1 |  2 |  4 |  1 | 0  | 0  |  1 | \n",
       "| slc7a3 | 0  |  7 | 2  | 1  | 3  | 18 | 29 | 6  | 1  | 36 | ⋯  | 0  | 1  | 0  | 15 |  0 |  2 | 18 | 0  | 0  |  8 | \n",
       "| Eomes | 0  | 17 | 3  | 2  | 7  |  1 |  1 | 0  | 0  |  0 | ⋯  | 0  | 1  | 0  |  0 | 13 | 13 |  1 | 0  | 0  |  1 | \n",
       "| zfp462 | 0  |  2 | 1  | 0  | 7  |  7 |  7 | 0  | 0  | 11 | ⋯  | 0  | 1  | 1  |  1 |  0 |  6 |  5 | 0  | 1  |  6 | \n",
       "| Brachyury | 0  |  0 | 2  | 0  | 0  |  0 |  0 | 0  | 0  |  0 | ⋯  | 0  | 6  | 1  |  0 |  9 |  1 |  0 | 0  | 0  |  0 | \n",
       "| Sox2 | 0  |  0 | 0  | 1  | 3  |  7 |  4 | 0  | 2  |  7 | ⋯  | 0  | 0  | 0  |  0 |  0 |  0 | 11 | 0  | 1  |  4 | \n",
       "| Pou3f1 | 3  | 20 | 6  | 6  | 5  | 18 | 18 | 0  | 6  | 20 | ⋯  | 0  | 4  | 1  |  5 |  0 |  2 |  6 | 0  | 1  | 11 | \n",
       "\n",
       "\n"
      ],
      "text/plain": [
       "          AGTGTC ACCATG GAGTGA CACTCA CATGTC ACAGGA GTACCA ACAGAC ACGTTG ACCAAC\n",
       "nanog     0      12     1      2      6       2      3     1      0       4    \n",
       "Pou5f1    0       1     0      2      1       4      3     0      0       4    \n",
       "slc7a3    0       7     2      1      3      18     29     6      1      36    \n",
       "Eomes     0      17     3      2      7       1      1     0      0       0    \n",
       "zfp462    0       2     1      0      7       7      7     0      0      11    \n",
       "Brachyury 0       0     2      0      0       0      0     0      0       0    \n",
       "Sox2      0       0     0      1      3       7      4     0      2       7    \n",
       "Pou3f1    3      20     6      6      5      18     18     0      6      20    \n",
       "          ⋯ ACAAGC TGAAGG TAACGG AACCTC CGTCTA CCATAG TTCCAG GGACAA ACTTCG\n",
       "nanog     ⋯ 0      5      2       1      9      3      3     0      0     \n",
       "Pou5f1    ⋯ 0      2      0       1      2      4      1     0      0     \n",
       "slc7a3    ⋯ 0      1      0      15      0      2     18     0      0     \n",
       "Eomes     ⋯ 0      1      0       0     13     13      1     0      0     \n",
       "zfp462    ⋯ 0      1      1       1      0      6      5     0      1     \n",
       "Brachyury ⋯ 0      6      1       0      9      1      0     0      0     \n",
       "Sox2      ⋯ 0      0      0       0      0      0     11     0      1     \n",
       "Pou3f1    ⋯ 0      4      1       5      0      2      6     0      1     \n",
       "          TTGTGC\n",
       "nanog      3    \n",
       "Pou5f1     1    \n",
       "slc7a3     8    \n",
       "Eomes      1    \n",
       "zfp462     6    \n",
       "Brachyury  0    \n",
       "Sox2       4    \n",
       "Pou3f1    11    "
      ]
     },
     "metadata": {},
     "output_type": "display_data"
    },
    {
     "name": "stderr",
     "output_type": "stream",
     "text": [
      "96 barcodes → 96 cells\n",
      "17686 genes → 8 genes of interest\n"
     ]
    }
   ],
   "source": [
    "head(count_matrix)\n",
    "\n",
    "genes_of_interest <- !grepl(\"^ENS\", rownames(count_matrix))\n",
    "count_matrix[genes_of_interest,]\n",
    "\n",
    "\n",
    "message(length(barcodes_vector), \" barcodes → \", \n",
    "        dim(count_matrix)[2], \" cells\")\n",
    "message(dim(count_matrix)[1], \" genes → \", \n",
    "       dim(count_matrix[genes_of_interest,])[1], \" main genes of interest\")"
   ]
  },
  {
   "cell_type": "code",
   "execution_count": null,
   "metadata": {},
   "outputs": [],
   "source": []
  },
  {
   "cell_type": "code",
   "execution_count": null,
   "metadata": {
    "collapsed": true
   },
   "outputs": [],
   "source": []
  }
 ],
 "metadata": {
  "kernelspec": {
   "display_name": "R",
   "language": "R",
   "name": "ir"
  },
  "language_info": {
   "codemirror_mode": "r",
   "file_extension": ".r",
   "mimetype": "text/x-r-source",
   "name": "R",
   "pygments_lexer": "r",
   "version": "3.4.3"
  }
 },
 "nbformat": 4,
 "nbformat_minor": 2
}
