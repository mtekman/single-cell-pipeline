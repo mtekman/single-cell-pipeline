{
 "cells": [
  {
   "cell_type": "code",
   "execution_count": 3,
   "metadata": {
    "collapsed": true
   },
   "outputs": [],
   "source": [
    "library(SingleCellExperiment)\n",
    "library(scater)\n",
    "options(stringsAsFactors = FALSE)"
   ]
  },
  {
   "cell_type": "code",
   "execution_count": 1,
   "metadata": {
    "collapsed": true
   },
   "outputs": [],
   "source": [
    "#Load data\n",
    "dset = 11\n",
    "\n",
    "counts_raw <- read.table(\n",
    "    paste(\"/extra/sebastian_arnolds/analysis/trim/star_\", dset, \"/counts_matrix.tsv\", sep=\"\"), \n",
    "    #\"/extra/sebastian_arnolds/analysis/trim/counts_matrix.tsv\",\n",
    "    sep=\"\\t\"\n",
    ")\n",
    "\n",
    "barcodes_vector <- as.vector(\n",
    "    read.table(\n",
    "        paste(\"/extra/sebastian_arnolds/analysis/celseq_barcodes_raw_\", dset, \".txt\", sep=\"\")\n",
    "        #\"/extra/sebastian_arnolds/analysis/celseq_barcodes_raw_all.txt\"\n",
    "    )[, 1])"
   ]
  },
  {
   "cell_type": "code",
   "execution_count": 2,
   "metadata": {},
   "outputs": [
    {
     "data": {
      "text/html": [
       "<ol class=list-inline>\n",
       "\t<li>17686</li>\n",
       "\t<li>96</li>\n",
       "</ol>\n"
      ],
      "text/latex": [
       "\\begin{enumerate*}\n",
       "\\item 17686\n",
       "\\item 96\n",
       "\\end{enumerate*}\n"
      ],
      "text/markdown": [
       "1. 17686\n",
       "2. 96\n",
       "\n",
       "\n"
      ],
      "text/plain": [
       "[1] 17686    96"
      ]
     },
     "metadata": {},
     "output_type": "display_data"
    }
   ],
   "source": [
    "count_matrix <- as.matrix(counts_raw[, barcodes_vector])\n",
    "dim(count_matrix)"
   ]
  },
  {
   "cell_type": "code",
   "execution_count": 15,
   "metadata": {},
   "outputs": [
    {
     "name": "stderr",
     "output_type": "stream",
     "text": [
      "176863784 → 210704053 % 83.939250118652193.3629410313348\n",
      "96 → 192 % 50\n"
     ]
    }
   ],
   "source": [
    "#head(counts_raw)\n",
    "#message(dim(counts_prev), \" → \", dim(counts_raw), \" % \", 100*dim(counts_prev)/dim(counts_raw) )\n",
    "#message(length(barcodes_prev), \" → \", length(barcodes_vector), \" % \", 100*length(barcodes_prev)/length(barcodes_vector))"
   ]
  },
  {
   "cell_type": "code",
   "execution_count": 18,
   "metadata": {
    "collapsed": true
   },
   "outputs": [],
   "source": [
    "# Change labels for genes of interest\n",
    "name_map = list(\n",
    "    ENSMUSG00000062327 = \"Brachyury\",\n",
    "    ENSMUSG00000032446 = \"Eomes\",\n",
    "    ENSMUSG00000030544 = \"Mesp1\",\n",
    "    ENSMUSG00000024406 = \"Pou5f1\",\n",
    "    ENSMUSG00000012396 = \"nanog\",\n",
    "    ENSMUSG00000096014 = \"Sox1\",\n",
    "    ENSMUSG00000074637 = \"Sox2\",\n",
    "    ENSMUSG00000090125 = \"Pou3f1\",\n",
    "    ENSMUSG00000060206 = \"zfp462\",\n",
    "    ENSMUSG00000031297 = \"slc7a3\"\n",
    ")\n",
    "\n",
    "for (i in 1:length(name_map)){\n",
    "    old_gene_name <- names(name_map[i])\n",
    "    new_gene_name <- name_map[[i]]\n",
    "    #message(old_gene_name, \"→\", new_gene_name)\n",
    "    rownames(count_matrix)[which(rownames(count_matrix) == old_gene_name)] <- new_gene_name\n",
    "}"
   ]
  },
  {
   "cell_type": "code",
   "execution_count": 19,
   "metadata": {},
   "outputs": [
    {
     "data": {
      "text/html": [
       "<table>\n",
       "<thead><tr><th></th><th scope=col>AGTGTC</th><th scope=col>ACCATG</th><th scope=col>GAGTGA</th><th scope=col>CACTCA</th><th scope=col>CATGTC</th><th scope=col>ACAGGA</th><th scope=col>GTACCA</th><th scope=col>ACAGAC</th><th scope=col>ACGTTG</th><th scope=col>ACCAAC</th><th scope=col>⋯</th><th scope=col>AGCGAA</th><th scope=col>GGTTAG</th><th scope=col>GATTGC</th><th scope=col>CGTTCA</th><th scope=col>ATCCGA</th><th scope=col>GCATTC</th><th scope=col>CCTGAA</th><th scope=col>GGAATC</th><th scope=col>TCAACG</th><th scope=col>AACACC</th></tr></thead>\n",
       "<tbody>\n",
       "\t<tr><th scope=row>ENSMUSG00000000001</th><td>0  </td><td>3  </td><td>2  </td><td>2  </td><td>5  </td><td>7  </td><td>6  </td><td>2  </td><td>0  </td><td>9  </td><td>⋯  </td><td>2  </td><td>2  </td><td>4  </td><td>  6</td><td>8  </td><td>10 </td><td>5  </td><td>5  </td><td>  3</td><td>0  </td></tr>\n",
       "\t<tr><th scope=row>ENSMUSG00000000028</th><td>0  </td><td>0  </td><td>1  </td><td>0  </td><td>0  </td><td>0  </td><td>1  </td><td>0  </td><td>0  </td><td>2  </td><td>⋯  </td><td>0  </td><td>0  </td><td>0  </td><td>  1</td><td>1  </td><td> 2 </td><td>3  </td><td>0  </td><td>  0</td><td>0  </td></tr>\n",
       "\t<tr><th scope=row>ENSMUSG00000000031</th><td>0  </td><td>0  </td><td>0  </td><td>0  </td><td>3  </td><td>2  </td><td>1  </td><td>1  </td><td>0  </td><td>0  </td><td>⋯  </td><td>3  </td><td>0  </td><td>2  </td><td>167</td><td>0  </td><td> 4 </td><td>8  </td><td>3  </td><td>159</td><td>1  </td></tr>\n",
       "\t<tr><th scope=row>ENSMUSG00000000037</th><td>0  </td><td>0  </td><td>0  </td><td>0  </td><td>0  </td><td>0  </td><td>0  </td><td>0  </td><td>0  </td><td>0  </td><td>⋯  </td><td>0  </td><td>0  </td><td>0  </td><td>  0</td><td>0  </td><td> 0 </td><td>0  </td><td>0  </td><td>  0</td><td>0  </td></tr>\n",
       "\t<tr><th scope=row>ENSMUSG00000000056</th><td>0  </td><td>0  </td><td>0  </td><td>0  </td><td>0  </td><td>1  </td><td>0  </td><td>0  </td><td>0  </td><td>0  </td><td>⋯  </td><td>0  </td><td>0  </td><td>0  </td><td>  0</td><td>0  </td><td> 0 </td><td>0  </td><td>1  </td><td>  0</td><td>0  </td></tr>\n",
       "\t<tr><th scope=row>ENSMUSG00000000058</th><td>0  </td><td>0  </td><td>0  </td><td>1  </td><td>0  </td><td>0  </td><td>0  </td><td>0  </td><td>0  </td><td>0  </td><td>⋯  </td><td>0  </td><td>0  </td><td>0  </td><td>  0</td><td>0  </td><td> 0 </td><td>0  </td><td>0  </td><td>  0</td><td>0  </td></tr>\n",
       "</tbody>\n",
       "</table>\n"
      ],
      "text/latex": [
       "\\begin{tabular}{r|llllllllllllllllllllllllllllllllllllllllllllllllllllllllllllllllllllllllllllllllllllllllllllllllllllllllllllllllllllllllllllllllllllllllllllllllllllllllllllllllllllllllllllllllllllllllllllllll}\n",
       "  & AGTGTC & ACCATG & GAGTGA & CACTCA & CATGTC & ACAGGA & GTACCA & ACAGAC & ACGTTG & ACCAAC & ⋯ & AGCGAA & GGTTAG & GATTGC & CGTTCA & ATCCGA & GCATTC & CCTGAA & GGAATC & TCAACG & AACACC\\\\\n",
       "\\hline\n",
       "\tENSMUSG00000000001 & 0   & 3   & 2   & 2   & 5   & 7   & 6   & 2   & 0   & 9   & ⋯   & 2   & 2   & 4   &   6 & 8   & 10  & 5   & 5   &   3 & 0  \\\\\n",
       "\tENSMUSG00000000028 & 0   & 0   & 1   & 0   & 0   & 0   & 1   & 0   & 0   & 2   & ⋯   & 0   & 0   & 0   &   1 & 1   &  2  & 3   & 0   &   0 & 0  \\\\\n",
       "\tENSMUSG00000000031 & 0   & 0   & 0   & 0   & 3   & 2   & 1   & 1   & 0   & 0   & ⋯   & 3   & 0   & 2   & 167 & 0   &  4  & 8   & 3   & 159 & 1  \\\\\n",
       "\tENSMUSG00000000037 & 0   & 0   & 0   & 0   & 0   & 0   & 0   & 0   & 0   & 0   & ⋯   & 0   & 0   & 0   &   0 & 0   &  0  & 0   & 0   &   0 & 0  \\\\\n",
       "\tENSMUSG00000000056 & 0   & 0   & 0   & 0   & 0   & 1   & 0   & 0   & 0   & 0   & ⋯   & 0   & 0   & 0   &   0 & 0   &  0  & 0   & 1   &   0 & 0  \\\\\n",
       "\tENSMUSG00000000058 & 0   & 0   & 0   & 1   & 0   & 0   & 0   & 0   & 0   & 0   & ⋯   & 0   & 0   & 0   &   0 & 0   &  0  & 0   & 0   &   0 & 0  \\\\\n",
       "\\end{tabular}\n"
      ],
      "text/markdown": [
       "\n",
       "| <!--/--> | AGTGTC | ACCATG | GAGTGA | CACTCA | CATGTC | ACAGGA | GTACCA | ACAGAC | ACGTTG | ACCAAC | ⋯ | AGCGAA | GGTTAG | GATTGC | CGTTCA | ATCCGA | GCATTC | CCTGAA | GGAATC | TCAACG | AACACC | \n",
       "|---|---|---|---|---|---|\n",
       "| ENSMUSG00000000001 | 0   | 3   | 2   | 2   | 5   | 7   | 6   | 2   | 0   | 9   | ⋯   | 2   | 2   | 4   |   6 | 8   | 10  | 5   | 5   |   3 | 0   | \n",
       "| ENSMUSG00000000028 | 0   | 0   | 1   | 0   | 0   | 0   | 1   | 0   | 0   | 2   | ⋯   | 0   | 0   | 0   |   1 | 1   |  2  | 3   | 0   |   0 | 0   | \n",
       "| ENSMUSG00000000031 | 0   | 0   | 0   | 0   | 3   | 2   | 1   | 1   | 0   | 0   | ⋯   | 3   | 0   | 2   | 167 | 0   |  4  | 8   | 3   | 159 | 1   | \n",
       "| ENSMUSG00000000037 | 0   | 0   | 0   | 0   | 0   | 0   | 0   | 0   | 0   | 0   | ⋯   | 0   | 0   | 0   |   0 | 0   |  0  | 0   | 0   |   0 | 0   | \n",
       "| ENSMUSG00000000056 | 0   | 0   | 0   | 0   | 0   | 1   | 0   | 0   | 0   | 0   | ⋯   | 0   | 0   | 0   |   0 | 0   |  0  | 0   | 1   |   0 | 0   | \n",
       "| ENSMUSG00000000058 | 0   | 0   | 0   | 1   | 0   | 0   | 0   | 0   | 0   | 0   | ⋯   | 0   | 0   | 0   |   0 | 0   |  0  | 0   | 0   |   0 | 0   | \n",
       "\n",
       "\n"
      ],
      "text/plain": [
       "                   AGTGTC ACCATG GAGTGA CACTCA CATGTC ACAGGA GTACCA ACAGAC\n",
       "ENSMUSG00000000001 0      3      2      2      5      7      6      2     \n",
       "ENSMUSG00000000028 0      0      1      0      0      0      1      0     \n",
       "ENSMUSG00000000031 0      0      0      0      3      2      1      1     \n",
       "ENSMUSG00000000037 0      0      0      0      0      0      0      0     \n",
       "ENSMUSG00000000056 0      0      0      0      0      1      0      0     \n",
       "ENSMUSG00000000058 0      0      0      1      0      0      0      0     \n",
       "                   ACGTTG ACCAAC ⋯ AGCGAA GGTTAG GATTGC CGTTCA ATCCGA GCATTC\n",
       "ENSMUSG00000000001 0      9      ⋯ 2      2      4        6    8      10    \n",
       "ENSMUSG00000000028 0      2      ⋯ 0      0      0        1    1       2    \n",
       "ENSMUSG00000000031 0      0      ⋯ 3      0      2      167    0       4    \n",
       "ENSMUSG00000000037 0      0      ⋯ 0      0      0        0    0       0    \n",
       "ENSMUSG00000000056 0      0      ⋯ 0      0      0        0    0       0    \n",
       "ENSMUSG00000000058 0      0      ⋯ 0      0      0        0    0       0    \n",
       "                   CCTGAA GGAATC TCAACG AACACC\n",
       "ENSMUSG00000000001 5      5        3    0     \n",
       "ENSMUSG00000000028 3      0        0    0     \n",
       "ENSMUSG00000000031 8      3      159    1     \n",
       "ENSMUSG00000000037 0      0        0    0     \n",
       "ENSMUSG00000000056 0      1        0    0     \n",
       "ENSMUSG00000000058 0      0        0    0     "
      ]
     },
     "metadata": {},
     "output_type": "display_data"
    },
    {
     "name": "stderr",
     "output_type": "stream",
     "text": [
      "192 barcodes → 192 cells\n",
      "21070 genes → 9 main genes of interest\n"
     ]
    }
   ],
   "source": [
    "# Check our matrix and our relabelled genes\n",
    "head(count_matrix)\n",
    "\n",
    "genes_of_interest <- !grepl(\"^ENS\", rownames(count_matrix))\n",
    "goi_matrix <- count_matrix[genes_of_interest,]\n",
    "\n",
    "\n",
    "message(length(barcodes_vector), \" barcodes → \", \n",
    "        dim(count_matrix)[2], \" cells\")\n",
    "\n",
    "message(dim(count_matrix)[1], \" genes → \", \n",
    "       dim(goi_matrix)[1], \" main genes of interest\")"
   ]
  },
  {
   "cell_type": "code",
   "execution_count": 20,
   "metadata": {},
   "outputs": [
    {
     "data": {
      "text/html": [
       "<table>\n",
       "<thead><tr><th></th><th scope=col>AGTGTC</th><th scope=col>ACCATG</th><th scope=col>GAGTGA</th><th scope=col>CACTCA</th><th scope=col>CATGTC</th><th scope=col>ACAGGA</th><th scope=col>GTACCA</th><th scope=col>ACAGAC</th><th scope=col>ACGTTG</th><th scope=col>ACCAAC</th><th scope=col>⋯</th><th scope=col>AGCGAA</th><th scope=col>GGTTAG</th><th scope=col>GATTGC</th><th scope=col>CGTTCA</th><th scope=col>ATCCGA</th><th scope=col>GCATTC</th><th scope=col>CCTGAA</th><th scope=col>GGAATC</th><th scope=col>TCAACG</th><th scope=col>AACACC</th></tr></thead>\n",
       "<tbody>\n",
       "\t<tr><th scope=row>ENSMUSG00000000001</th><td>0  </td><td>3  </td><td>2  </td><td>2  </td><td>5  </td><td>7  </td><td>6  </td><td>2  </td><td>0  </td><td>9  </td><td>⋯  </td><td>2  </td><td>2  </td><td>4  </td><td>  6</td><td>8  </td><td>10 </td><td>5  </td><td>5  </td><td>  3</td><td>0  </td></tr>\n",
       "\t<tr><th scope=row>ENSMUSG00000000028</th><td>0  </td><td>0  </td><td>1  </td><td>0  </td><td>0  </td><td>0  </td><td>1  </td><td>0  </td><td>0  </td><td>2  </td><td>⋯  </td><td>0  </td><td>0  </td><td>0  </td><td>  1</td><td>1  </td><td> 2 </td><td>3  </td><td>0  </td><td>  0</td><td>0  </td></tr>\n",
       "\t<tr><th scope=row>ENSMUSG00000000031</th><td>0  </td><td>0  </td><td>0  </td><td>0  </td><td>3  </td><td>2  </td><td>1  </td><td>1  </td><td>0  </td><td>0  </td><td>⋯  </td><td>3  </td><td>0  </td><td>2  </td><td>167</td><td>0  </td><td> 4 </td><td>8  </td><td>3  </td><td>159</td><td>1  </td></tr>\n",
       "\t<tr><th scope=row>ENSMUSG00000000037</th><td>0  </td><td>0  </td><td>0  </td><td>0  </td><td>0  </td><td>0  </td><td>0  </td><td>0  </td><td>0  </td><td>0  </td><td>⋯  </td><td>0  </td><td>0  </td><td>0  </td><td>  0</td><td>0  </td><td> 0 </td><td>0  </td><td>0  </td><td>  0</td><td>0  </td></tr>\n",
       "\t<tr><th scope=row>ENSMUSG00000000056</th><td>0  </td><td>0  </td><td>0  </td><td>0  </td><td>0  </td><td>1  </td><td>0  </td><td>0  </td><td>0  </td><td>0  </td><td>⋯  </td><td>0  </td><td>0  </td><td>0  </td><td>  0</td><td>0  </td><td> 0 </td><td>0  </td><td>1  </td><td>  0</td><td>0  </td></tr>\n",
       "\t<tr><th scope=row>ENSMUSG00000000058</th><td>0  </td><td>0  </td><td>0  </td><td>1  </td><td>0  </td><td>0  </td><td>0  </td><td>0  </td><td>0  </td><td>0  </td><td>⋯  </td><td>0  </td><td>0  </td><td>0  </td><td>  0</td><td>0  </td><td> 0 </td><td>0  </td><td>0  </td><td>  0</td><td>0  </td></tr>\n",
       "</tbody>\n",
       "</table>\n"
      ],
      "text/latex": [
       "\\begin{tabular}{r|llllllllllllllllllllllllllllllllllllllllllllllllllllllllllllllllllllllllllllllllllllllllllllllllllllllllllllllllllllllllllllllllllllllllllllllllllllllllllllllllllllllllllllllllllllllllllllllll}\n",
       "  & AGTGTC & ACCATG & GAGTGA & CACTCA & CATGTC & ACAGGA & GTACCA & ACAGAC & ACGTTG & ACCAAC & ⋯ & AGCGAA & GGTTAG & GATTGC & CGTTCA & ATCCGA & GCATTC & CCTGAA & GGAATC & TCAACG & AACACC\\\\\n",
       "\\hline\n",
       "\tENSMUSG00000000001 & 0   & 3   & 2   & 2   & 5   & 7   & 6   & 2   & 0   & 9   & ⋯   & 2   & 2   & 4   &   6 & 8   & 10  & 5   & 5   &   3 & 0  \\\\\n",
       "\tENSMUSG00000000028 & 0   & 0   & 1   & 0   & 0   & 0   & 1   & 0   & 0   & 2   & ⋯   & 0   & 0   & 0   &   1 & 1   &  2  & 3   & 0   &   0 & 0  \\\\\n",
       "\tENSMUSG00000000031 & 0   & 0   & 0   & 0   & 3   & 2   & 1   & 1   & 0   & 0   & ⋯   & 3   & 0   & 2   & 167 & 0   &  4  & 8   & 3   & 159 & 1  \\\\\n",
       "\tENSMUSG00000000037 & 0   & 0   & 0   & 0   & 0   & 0   & 0   & 0   & 0   & 0   & ⋯   & 0   & 0   & 0   &   0 & 0   &  0  & 0   & 0   &   0 & 0  \\\\\n",
       "\tENSMUSG00000000056 & 0   & 0   & 0   & 0   & 0   & 1   & 0   & 0   & 0   & 0   & ⋯   & 0   & 0   & 0   &   0 & 0   &  0  & 0   & 1   &   0 & 0  \\\\\n",
       "\tENSMUSG00000000058 & 0   & 0   & 0   & 1   & 0   & 0   & 0   & 0   & 0   & 0   & ⋯   & 0   & 0   & 0   &   0 & 0   &  0  & 0   & 0   &   0 & 0  \\\\\n",
       "\\end{tabular}\n"
      ],
      "text/markdown": [
       "\n",
       "| <!--/--> | AGTGTC | ACCATG | GAGTGA | CACTCA | CATGTC | ACAGGA | GTACCA | ACAGAC | ACGTTG | ACCAAC | ⋯ | AGCGAA | GGTTAG | GATTGC | CGTTCA | ATCCGA | GCATTC | CCTGAA | GGAATC | TCAACG | AACACC | \n",
       "|---|---|---|---|---|---|\n",
       "| ENSMUSG00000000001 | 0   | 3   | 2   | 2   | 5   | 7   | 6   | 2   | 0   | 9   | ⋯   | 2   | 2   | 4   |   6 | 8   | 10  | 5   | 5   |   3 | 0   | \n",
       "| ENSMUSG00000000028 | 0   | 0   | 1   | 0   | 0   | 0   | 1   | 0   | 0   | 2   | ⋯   | 0   | 0   | 0   |   1 | 1   |  2  | 3   | 0   |   0 | 0   | \n",
       "| ENSMUSG00000000031 | 0   | 0   | 0   | 0   | 3   | 2   | 1   | 1   | 0   | 0   | ⋯   | 3   | 0   | 2   | 167 | 0   |  4  | 8   | 3   | 159 | 1   | \n",
       "| ENSMUSG00000000037 | 0   | 0   | 0   | 0   | 0   | 0   | 0   | 0   | 0   | 0   | ⋯   | 0   | 0   | 0   |   0 | 0   |  0  | 0   | 0   |   0 | 0   | \n",
       "| ENSMUSG00000000056 | 0   | 0   | 0   | 0   | 0   | 1   | 0   | 0   | 0   | 0   | ⋯   | 0   | 0   | 0   |   0 | 0   |  0  | 0   | 1   |   0 | 0   | \n",
       "| ENSMUSG00000000058 | 0   | 0   | 0   | 1   | 0   | 0   | 0   | 0   | 0   | 0   | ⋯   | 0   | 0   | 0   |   0 | 0   |  0  | 0   | 0   |   0 | 0   | \n",
       "\n",
       "\n"
      ],
      "text/plain": [
       "                   AGTGTC ACCATG GAGTGA CACTCA CATGTC ACAGGA GTACCA ACAGAC\n",
       "ENSMUSG00000000001 0      3      2      2      5      7      6      2     \n",
       "ENSMUSG00000000028 0      0      1      0      0      0      1      0     \n",
       "ENSMUSG00000000031 0      0      0      0      3      2      1      1     \n",
       "ENSMUSG00000000037 0      0      0      0      0      0      0      0     \n",
       "ENSMUSG00000000056 0      0      0      0      0      1      0      0     \n",
       "ENSMUSG00000000058 0      0      0      1      0      0      0      0     \n",
       "                   ACGTTG ACCAAC ⋯ AGCGAA GGTTAG GATTGC CGTTCA ATCCGA GCATTC\n",
       "ENSMUSG00000000001 0      9      ⋯ 2      2      4        6    8      10    \n",
       "ENSMUSG00000000028 0      2      ⋯ 0      0      0        1    1       2    \n",
       "ENSMUSG00000000031 0      0      ⋯ 3      0      2      167    0       4    \n",
       "ENSMUSG00000000037 0      0      ⋯ 0      0      0        0    0       0    \n",
       "ENSMUSG00000000056 0      0      ⋯ 0      0      0        0    0       0    \n",
       "ENSMUSG00000000058 0      0      ⋯ 0      0      0        0    0       0    \n",
       "                   CCTGAA GGAATC TCAACG AACACC\n",
       "ENSMUSG00000000001 5      5        3    0     \n",
       "ENSMUSG00000000028 3      0        0    0     \n",
       "ENSMUSG00000000031 8      3      159    1     \n",
       "ENSMUSG00000000037 0      0        0    0     \n",
       "ENSMUSG00000000056 0      1        0    0     \n",
       "ENSMUSG00000000058 0      0        0    0     "
      ]
     },
     "metadata": {},
     "output_type": "display_data"
    }
   ],
   "source": [
    "# Initialise single cell object -- we assume UMI counts from hereon out\n",
    "sce <- SingleCellExperiment(assays = list(counts = count_matrix))\n",
    "head(counts(sce))"
   ]
  },
  {
   "cell_type": "code",
   "execution_count": 21,
   "metadata": {},
   "outputs": [
    {
     "name": "stderr",
     "output_type": "stream",
     "text": [
      "21070 genes → 20662 detected genes, (408 filtered out), (9 genes of interest still remaining)\n"
     ]
    }
   ],
   "source": [
    "# Filter out any genes not found in any cell\n",
    "genes_summed_gt_zero <- rowSums(counts(sce) > 0)\n",
    "gene_names_gt_zero <- (genes_summed_gt_zero > 0)\n",
    "\n",
    "# apply\n",
    "sce_f <- sce[gene_names_gt_zero,]\n",
    "\n",
    "# Check to see if we lost our genes of interest\n",
    "genes_of_interest <- !grepl(\"^ENS\", rownames(sce_f))\n",
    "\n",
    "message(length(sce), \" genes → \", length(sce_f), \" detected genes, (\", \n",
    "        length(sce) - length(sce_f), \" filtered out), (\",\n",
    "        length(sce_f[genes_of_interest,]), \" genes of interest still remaining)\"\n",
    "        )\n",
    "\n",
    "sce <- sce_f # reassign"
   ]
  },
  {
   "cell_type": "code",
   "execution_count": 22,
   "metadata": {},
   "outputs": [
    {
     "name": "stderr",
     "output_type": "stream",
     "text": [
      "Spike-ins detected = 0\n"
     ]
    }
   ],
   "source": [
    "# Spike-ins used?\n",
    "# \n",
    "non_ENS <- !grepl(\"^ENS\", rownames(sce))\n",
    "non_goi <- rownames(sce) %in% rownames(goi_matrix)\n",
    "\n",
    "message(\"Spike-ins detected = \", length(rownames(sce[non_ENS && !non_goi,])))"
   ]
  },
  {
   "cell_type": "code",
   "execution_count": 23,
   "metadata": {
    "collapsed": true
   },
   "outputs": [],
   "source": [
    "# Assign known/related groups\n",
    "is.meso <- rownames(sce) %in% c(\"Eomes\", \"Brachyury\", \"Mesp1\")\n",
    "is.pluri <- rownames(sce) %in% c(\"Pou5f1\", \"nanog\")\n",
    "is.neuro <- rownames(sce) %in% c(\"Sox1\", \"Sox2\", \"Pou3f1\", \"zfp462\", \"slc7a3\")\n",
    "\n",
    "rowData(sce)$is_mesoderm <- is.meso\n",
    "rowData(sce)$is_pluripotenz <- is.pluri\n",
    "rowData(sce)$is_neuroectoderm <- is.neuro\n",
    "\n",
    "# Assign known/related cell batches\n",
    "colData(sce)$plate_number <- c(rep(\"plate1\", 96), rep(\"plate2\", 96)) \n",
    "# can we be sure of ordering...?\n"
   ]
  },
  {
   "cell_type": "code",
   "execution_count": 25,
   "metadata": {},
   "outputs": [
    {
     "data": {
      "text/html": [
       "<ol class=list-inline>\n",
       "\t<li>'plate_number'</li>\n",
       "\t<li>'total_features'</li>\n",
       "\t<li>'log10_total_features'</li>\n",
       "\t<li>'total_counts'</li>\n",
       "\t<li>'log10_total_counts'</li>\n",
       "\t<li>'pct_counts_top_50_features'</li>\n",
       "\t<li>'pct_counts_top_100_features'</li>\n",
       "\t<li>'pct_counts_top_200_features'</li>\n",
       "\t<li>'pct_counts_top_500_features'</li>\n",
       "\t<li>'is_cell_control'</li>\n",
       "</ol>\n"
      ],
      "text/latex": [
       "\\begin{enumerate*}\n",
       "\\item 'plate\\_number'\n",
       "\\item 'total\\_features'\n",
       "\\item 'log10\\_total\\_features'\n",
       "\\item 'total\\_counts'\n",
       "\\item 'log10\\_total\\_counts'\n",
       "\\item 'pct\\_counts\\_top\\_50\\_features'\n",
       "\\item 'pct\\_counts\\_top\\_100\\_features'\n",
       "\\item 'pct\\_counts\\_top\\_200\\_features'\n",
       "\\item 'pct\\_counts\\_top\\_500\\_features'\n",
       "\\item 'is\\_cell\\_control'\n",
       "\\end{enumerate*}\n"
      ],
      "text/markdown": [
       "1. 'plate_number'\n",
       "2. 'total_features'\n",
       "3. 'log10_total_features'\n",
       "4. 'total_counts'\n",
       "5. 'log10_total_counts'\n",
       "6. 'pct_counts_top_50_features'\n",
       "7. 'pct_counts_top_100_features'\n",
       "8. 'pct_counts_top_200_features'\n",
       "9. 'pct_counts_top_500_features'\n",
       "10. 'is_cell_control'\n",
       "\n",
       "\n"
      ],
      "text/plain": [
       " [1] \"plate_number\"                \"total_features\"             \n",
       " [3] \"log10_total_features\"        \"total_counts\"               \n",
       " [5] \"log10_total_counts\"          \"pct_counts_top_50_features\" \n",
       " [7] \"pct_counts_top_100_features\" \"pct_counts_top_200_features\"\n",
       " [9] \"pct_counts_top_500_features\" \"is_cell_control\"            "
      ]
     },
     "metadata": {},
     "output_type": "display_data"
    },
    {
     "data": {
      "text/html": [
       "<ol class=list-inline>\n",
       "\t<li>20662</li>\n",
       "\t<li>192</li>\n",
       "</ol>\n"
      ],
      "text/latex": [
       "\\begin{enumerate*}\n",
       "\\item 20662\n",
       "\\item 192\n",
       "\\end{enumerate*}\n"
      ],
      "text/markdown": [
       "1. 20662\n",
       "2. 192\n",
       "\n",
       "\n"
      ],
      "text/plain": [
       "[1] 20662   192"
      ]
     },
     "metadata": {},
     "output_type": "display_data"
    },
    {
     "data": {
      "image/png": "[encoded data removed]",
      "text/plain": [
       "Plot with title “Histogram of sce$total_counts”"
      ]
     },
     "metadata": {},
     "output_type": "display_data"
    },
    {
     "data": {
      "image/png": "[encoded data removed]",
      "text/plain": [
       "Plot with title “Histogram of sce$log10_total_counts”"
      ]
     },
     "metadata": {},
     "output_type": "display_data"
    },
    {
     "data": {
      "image/png": "[encoded data removed]",
      "text/plain": [
       "Plot with title “Histogram of sce$total_features”"
      ]
     },
     "metadata": {},
     "output_type": "display_data"
    }
   ],
   "source": [
    "# Assign and calc some QC slots\n",
    "sce <- calculateQCMetrics(sce)\n",
    "\n",
    "names(colData(sce))\n",
    "\n",
    "dim(sce)\n",
    "\n",
    "hist(sce$total_counts, breaks=100)\n",
    "hist(sce$log10_total_counts, breaks=50)\n",
    "hist(sce$total_features, breaks=100)"
   ]
  }
 ],
 "metadata": {
  "kernelspec": {
   "display_name": "R",
   "language": "R",
   "name": "ir"
  },
  "language_info": {
   "codemirror_mode": "r",
   "file_extension": ".r",
   "mimetype": "text/x-r-source",
   "name": "R",
   "pygments_lexer": "r",
   "version": "3.4.3"
  }
 },
 "nbformat": 4,
 "nbformat_minor": 2
}
