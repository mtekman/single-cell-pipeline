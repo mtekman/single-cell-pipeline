{
 "cells": [
  {
   "cell_type": "code",
   "execution_count": 15,
   "metadata": {},
   "outputs": [
    {
     "name": "stderr",
     "output_type": "stream",
     "text": [
      "Loading required package: BiocParallel\n"
     ]
    }
   ],
   "source": [
    "library(SingleCellExperiment)\n",
    "library(scran)"
   ]
  },
  {
   "cell_type": "code",
   "execution_count": 5,
   "metadata": {
    "collapsed": true
   },
   "outputs": [],
   "source": [
    "umi <- readRDS(\"post_common_normalisation_approaches.rds\")"
   ]
  },
  {
   "cell_type": "code",
   "execution_count": 14,
   "metadata": {},
   "outputs": [
    {
     "data": {
      "text/plain": [
       "   Min. 1st Qu.  Median    Mean 3rd Qu.    Max. \n",
       "     61    1868    4834    4265    6232    9069 "
      ]
     },
     "metadata": {},
     "output_type": "display_data"
    },
    {
     "name": "stderr",
     "output_type": "stream",
     "text": [
      "On average, there are 4265 (21%) of zero transcript genes per cell (total = 20662)\n"
     ]
    }
   ],
   "source": [
    "num_genes = dim(umi)[1]\n",
    "num_cells = dim(umi)[2]\n",
    "\n",
    "summ = summary(colSums(counts(umi) != 0))\n",
    "\n",
    "summ\n",
    "message(sprintf(\n",
    "    \"On average, there are %.0f (%.0f%%) of zero transcript genes per cell (total = %.0f)\", \n",
    "    summ[4], 100 * summ[4] / num_genes, num_genes\n",
    "))\n",
    "\n",
    "# DESeq and TMM normalisation assume that some minimal proportion of genes are not differentially\n",
    "# expressed. DESeq(50%), TMM (40-70%)\n",
    "\n"
   ]
  },
  {
   "cell_type": "code",
   "execution_count": 40,
   "metadata": {},
   "outputs": [],
   "source": [
    "qclust <- quickCluster(umi, min.size = 30)\n",
    "umi <- computeSumFactors(umi, sizes = 15, clusters = qclust)\n"
   ]
  },
  {
   "cell_type": "code",
   "execution_count": 48,
   "metadata": {},
   "outputs": [
    {
     "ename": "ERROR",
     "evalue": "Error in log2(.get_log_offset(x)): non-numeric argument to mathematical function\n",
     "output_type": "error",
     "traceback": [
      "Error in log2(.get_log_offset(x)): non-numeric argument to mathematical function\nTraceback:\n",
      "1. correlatePairs(umi, null.dist = null.dist)",
      "2. correlatePairs(umi, null.dist = null.dist)",
      "3. .local(x, ...)",
      "4. .guess_lower_bound(x, assay.type, lower.bound)"
     ]
    }
   ],
   "source": [
    "#a#ssays(umi)\n",
    "#fit <- trendVar(umi, parametric=TRUE)\n",
    "#null.dist <- correlateNull(ncol(umi))\n",
    "\n",
    "cor.pairs <- correlatePairs(umi, null.dist=null.dist)\n",
    "head(cor.pairs)"
   ]
  }
 ],
 "metadata": {
  "kernelspec": {
   "display_name": "R",
   "language": "R",
   "name": "ir"
  },
  "language_info": {
   "codemirror_mode": "r",
   "file_extension": ".r",
   "mimetype": "text/x-r-source",
   "name": "R",
   "pygments_lexer": "r",
   "version": "3.4.3"
  }
 },
 "nbformat": 4,
 "nbformat_minor": 2
}
