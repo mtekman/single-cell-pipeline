{
 "cells": [
  {
   "cell_type": "code",
   "execution_count": 1,
   "metadata": {
    "scrolled": true
   },
   "outputs": [
    {
     "name": "stderr",
     "output_type": "stream",
     "text": [
      "Loading required package: SummarizedExperiment\n",
      "Loading required package: GenomicRanges\n",
      "Loading required package: stats4\n",
      "Loading required package: BiocGenerics\n",
      "Loading required package: parallel\n",
      "\n",
      "Attaching package: ‘BiocGenerics’\n",
      "\n",
      "The following objects are masked from ‘package:parallel’:\n",
      "\n",
      "    clusterApply, clusterApplyLB, clusterCall, clusterEvalQ,\n",
      "    clusterExport, clusterMap, parApply, parCapply, parLapply,\n",
      "    parLapplyLB, parRapply, parSapply, parSapplyLB\n",
      "\n",
      "The following objects are masked from ‘package:stats’:\n",
      "\n",
      "    IQR, mad, sd, var, xtabs\n",
      "\n",
      "The following objects are masked from ‘package:base’:\n",
      "\n",
      "    anyDuplicated, append, as.data.frame, cbind, colMeans, colnames,\n",
      "    colSums, do.call, duplicated, eval, evalq, Filter, Find, get, grep,\n",
      "    grepl, intersect, is.unsorted, lapply, lengths, Map, mapply, match,\n",
      "    mget, order, paste, pmax, pmax.int, pmin, pmin.int, Position, rank,\n",
      "    rbind, Reduce, rowMeans, rownames, rowSums, sapply, setdiff, sort,\n",
      "    table, tapply, union, unique, unsplit, which, which.max, which.min\n",
      "\n",
      "Loading required package: S4Vectors\n",
      "\n",
      "Attaching package: ‘S4Vectors’\n",
      "\n",
      "The following object is masked from ‘package:base’:\n",
      "\n",
      "    expand.grid\n",
      "\n",
      "Loading required package: IRanges\n",
      "Loading required package: GenomeInfoDb\n",
      "Loading required package: Biobase\n",
      "Welcome to Bioconductor\n",
      "\n",
      "    Vignettes contain introductory material; view with\n",
      "    'browseVignettes()'. To cite Bioconductor, see\n",
      "    'citation(\"Biobase\")', and for packages 'citation(\"pkgname\")'.\n",
      "\n",
      "Loading required package: DelayedArray\n",
      "Loading required package: matrixStats\n",
      "\n",
      "Attaching package: ‘matrixStats’\n",
      "\n",
      "The following objects are masked from ‘package:Biobase’:\n",
      "\n",
      "    anyMissing, rowMedians\n",
      "\n",
      "\n",
      "Attaching package: ‘DelayedArray’\n",
      "\n",
      "The following objects are masked from ‘package:matrixStats’:\n",
      "\n",
      "    colMaxs, colMins, colRanges, rowMaxs, rowMins, rowRanges\n",
      "\n",
      "The following object is masked from ‘package:base’:\n",
      "\n",
      "    apply\n",
      "\n",
      "Loading required package: ggplot2\n",
      "\n",
      "Attaching package: ‘scater’\n",
      "\n",
      "The following object is masked from ‘package:S4Vectors’:\n",
      "\n",
      "    rename\n",
      "\n",
      "The following object is masked from ‘package:stats’:\n",
      "\n",
      "    filter\n",
      "\n",
      "Loading matrix from source file matrix.cellQC.geneQC.normalised.hk_controls.rds...\n",
      "5052 genes x 132 cells. (132) unique barcodes.\n"
     ]
    }
   ],
   "source": [
    "matrix_destination = \"matrix.cellQC.geneQC.normalised.hk_controls.rds\"\n",
    "source(\"load_matrix.R\")"
   ]
  },
  {
   "cell_type": "code",
   "execution_count": 2,
   "metadata": {
    "scrolled": true
   },
   "outputs": [
    {
     "name": "stderr",
     "output_type": "stream",
     "text": [
      "\n",
      "Attaching package: ‘data.table’\n",
      "\n",
      "The following object is masked from ‘package:SummarizedExperiment’:\n",
      "\n",
      "    shift\n",
      "\n",
      "The following object is masked from ‘package:GenomicRanges’:\n",
      "\n",
      "    shift\n",
      "\n",
      "The following object is masked from ‘package:IRanges’:\n",
      "\n",
      "    shift\n",
      "\n",
      "The following objects are masked from ‘package:S4Vectors’:\n",
      "\n",
      "    first, second\n",
      "\n"
     ]
    }
   ],
   "source": [
    "library(data.table)\n",
    "library(ccRemover)\n",
    "# https://cran.r-project.org/web/packages/ccRemover/vignettes/ccRemover_tutorial.html"
   ]
  },
  {
   "cell_type": "markdown",
   "metadata": {},
   "source": [
    "### Removing the Cell-Cycle Effect\n",
    "\n",
    "Here we will remove the cell-cycle effect on our data to help remove variability that is not related to cell-type differentiation.\n",
    "\n",
    "To use this tool, we must first re-normalise our gene data once more so that it is zero-centric. "
   ]
  },
  {
   "cell_type": "code",
   "execution_count": 3,
   "metadata": {},
   "outputs": [
    {
     "data": {
      "text/html": [
       "<table>\n",
       "<thead><tr><th></th><th scope=col>Min.</th><th scope=col>1st Qu.</th><th scope=col>Median</th><th scope=col>Mean</th><th scope=col>3rd Qu.</th><th scope=col>Max.</th></tr></thead>\n",
       "<tbody>\n",
       "\t<tr><th scope=row>Before ZeroNorm:</th><td> 3.920000e-02</td><td> 8.990159e-01</td><td>1.573755e+00 </td><td>1.620198e+00 </td><td>2.281749e+00 </td><td>5.137184e+00 </td></tr>\n",
       "\t<tr><th scope=row>After ZeroNorm:</th><td>-7.132621e-16</td><td>-5.216573e-17</td><td>8.147944e-19 </td><td>9.961007e-19 </td><td>5.231419e-17 </td><td>4.408021e-16 </td></tr>\n",
       "</tbody>\n",
       "</table>\n"
      ],
      "text/latex": [
       "\\begin{tabular}{r|llllll}\n",
       "  & Min. & 1st Qu. & Median & Mean & 3rd Qu. & Max.\\\\\n",
       "\\hline\n",
       "\tBefore ZeroNorm: &  3.920000e-02 &  8.990159e-01 & 1.573755e+00  & 1.620198e+00  & 2.281749e+00  & 5.137184e+00 \\\\\n",
       "\tAfter ZeroNorm: & -7.132621e-16 & -5.216573e-17 & 8.147944e-19  & 9.961007e-19  & 5.231419e-17  & 4.408021e-16 \\\\\n",
       "\\end{tabular}\n"
      ],
      "text/markdown": [
       "\n",
       "| <!--/--> | Min. | 1st Qu. | Median | Mean | 3rd Qu. | Max. | \n",
       "|---|---|\n",
       "| Before ZeroNorm: |  3.920000e-02 |  8.990159e-01 | 1.573755e+00  | 1.620198e+00  | 2.281749e+00  | 5.137184e+00  | \n",
       "| After ZeroNorm: | -7.132621e-16 | -5.216573e-17 | 8.147944e-19  | 9.961007e-19  | 5.231419e-17  | 4.408021e-16  | \n",
       "\n",
       "\n"
      ],
      "text/plain": [
       "                 Min.          1st Qu.       Median       Mean        \n",
       "Before ZeroNorm:  3.920000e-02  8.990159e-01 1.573755e+00 1.620198e+00\n",
       "After ZeroNorm:  -7.132621e-16 -5.216573e-17 8.147944e-19 9.961007e-19\n",
       "                 3rd Qu.      Max.        \n",
       "Before ZeroNorm: 2.281749e+00 5.137184e+00\n",
       "After ZeroNorm:  5.231419e-17 4.408021e-16"
      ]
     },
     "metadata": {},
     "output_type": "display_data"
    }
   ],
   "source": [
    "mean_gene_exp <- rowMeans(logcounts(sce))\n",
    "t_cell_data_cen <- logcounts(sce) - mean_gene_exp\n",
    "\n",
    "gret <- rbind(\n",
    "    summary(apply(t.cell_data,1, mean)),\n",
    "    summary(apply(t_cell_data_cen,1,mean))\n",
    ")\n",
    "\n",
    "rownames(gret) <- c(\"Before ZeroNorm:\", \"After ZeroNorm:\")\n",
    "gret\n"
   ]
  },
  {
   "cell_type": "markdown",
   "metadata": {},
   "source": [
    "We can see now that our data is correctly normalised with a mean value that is practically zero.\n",
    "\n",
    "\n",
    "## Identifying the cell-cycle genes\n",
    "\n",
    "Now we need to find sets of genes that are related to the cell-cycle so that ccRemove can correct for them. Luckily it provides an inbuilt tool that checks against a variety of different sources (in our case, ensembl)."
   ]
  },
  {
   "cell_type": "code",
   "execution_count": 4,
   "metadata": {},
   "outputs": [
    {
     "name": "stdout",
     "output_type": "stream",
     "text": [
      "Invalid name type input. Switching to NULLNo name format input.\n",
      "Checking to see if match can be found:\n",
      "Best guess is  symbol  IDs\n",
      "678  matches out of a possible  5052\n"
     ]
    },
    {
     "data": {
      "text/plain": [
       "   Mode   FALSE    TRUE \n",
       "logical    4374     678 "
      ]
     },
     "metadata": {},
     "output_type": "display_data"
    }
   ],
   "source": [
    "gene_names <- rownames(t_cell_data_cen)\n",
    "cut_gene_names <- lapply(gene_names, function(x){return(strsplit(x, \"-|\\\\s\")[[1]][1])})\n",
    "cell_cycle_gene_indices <- gene_indexer(cut_gene_names, species = \"mouse\", name_type = \"ensemble\")\n",
    "\n",
    "if_cc <- rep(FALSE,nrow(t_cell_data_cen)) \n",
    "if_cc[cell_cycle_gene_indices] <- TRUE\n",
    "summary(if_cc)\n",
    "\n",
    "dat <- list(x=t_cell_data_cen, if_cc=if_cc)"
   ]
  },
  {
   "cell_type": "markdown",
   "metadata": {},
   "source": [
    "So now we have 678 genes that are implicit with cell-cycle variations. We can now correct against them:"
   ]
  },
  {
   "cell_type": "code",
   "execution_count": 5,
   "metadata": {},
   "outputs": [
    {
     "name": "stdout",
     "output_type": "stream",
     "text": [
      "0.1342043  of genes are cell-cycle genes\n",
      "Iteration  1 ...\n",
      "Bootstrapping...The bootstrap results on the top 10 components are:      xn_load  xy_load   diff_load t_load_boot\n",
      "PC1  2.037940 1.948064 -0.08987668  -0.9284765\n",
      "PC2  1.911684 1.985762  0.07407781   1.2850009\n",
      "PC3  1.584400 1.539122 -0.04527822  -0.7680605\n",
      "PC4  1.761098 1.743666 -0.01743173  -0.3778522\n",
      "PC5  1.482708 1.533594  0.05088589   0.9130776\n",
      "PC6  1.355870 1.377746  0.02187671   0.3943838\n",
      "PC7  1.297191 1.391646  0.09445522   1.1700309\n",
      "PC8  1.285791 1.211980 -0.07381164  -1.0886315\n",
      "PC9  1.312941 1.257691 -0.05525002  -0.9888276\n",
      "PC10 1.258060 1.271485  0.01342451   0.2786235\n",
      "No more cell-cycle effect is detected.\n"
     ]
    }
   ],
   "source": [
    "xhat <- ccRemover(dat, bar=FALSE)  # ~ 5 mins"
   ]
  },
  {
   "cell_type": "code",
   "execution_count": 6,
   "metadata": {
    "collapsed": true
   },
   "outputs": [],
   "source": [
    "# Add back our mean expr\n",
    "xhat2 <- xhat + mean_gene_exp"
   ]
  },
  {
   "cell_type": "code",
   "execution_count": 1,
   "metadata": {},
   "outputs": [
    {
     "ename": "ERROR",
     "evalue": "Error in eval(expr, envir, enclos): object 'sce' not found\n",
     "output_type": "error",
     "traceback": [
      "Error in eval(expr, envir, enclos): object 'sce' not found\nTraceback:\n"
     ]
    }
   ],
   "source": [
    "dim(sce)\n",
    "#dim()"
   ]
  },
  {
   "cell_type": "markdown",
   "metadata": {},
   "source": [
    "Now that we have finished cleaning for the cell-cyle variation, let us take a look to see how it affects a PCA:"
   ]
  },
  {
   "cell_type": "code",
   "execution_count": 7,
   "metadata": {
    "scrolled": false
   },
   "outputs": [
    {
     "data": {
      "image/png": "[encoded data removed]",
      "text/plain": [
       "plot without title"
      ]
     },
     "metadata": {},
     "output_type": "display_data"
    }
   ],
   "source": [
    "# clone of the original\n",
    "original <- copy(sce)\n",
    "\n",
    "# Apply xhat2 to our logcounts matrix\n",
    "logcounts(sce) <- xhat2\n",
    "\n",
    "original <- calculateQCMetrics(original)\n",
    "sce <- calculateQCMetrics(sce)\n",
    "\n",
    "# Compare PCAs\n",
    "multiplot( \n",
    "    plotPCA(original, exprs_values = \"logcounts\"),\n",
    "    plotPCA(sce, exprs_values = \"logcounts\")\n",
    ")"
   ]
  },
  {
   "cell_type": "markdown",
   "metadata": {},
   "source": [
    "The top plot is the original logcount matrix, and the bottom plot is the cell-cycle corrected logcount matrix.\n",
    "\n",
    "As we can see, the cell-cycle variation was not significant enough to create a measurable change in biological signal."
   ]
  },
  {
   "cell_type": "code",
   "execution_count": 8,
   "metadata": {
    "collapsed": true
   },
   "outputs": [],
   "source": [
    "saveRDS(sce, \"matrix.cellQC.geneQC.normalised.hk_controls.ccClean.rds\")"
   ]
  }
 ],
 "metadata": {
  "kernelspec": {
   "display_name": "R",
   "language": "R",
   "name": "ir"
  },
  "language_info": {
   "codemirror_mode": "r",
   "file_extension": ".r",
   "mimetype": "text/x-r-source",
   "name": "R",
   "pygments_lexer": "r",
   "version": "3.4.3"
  }
 },
 "nbformat": 4,
 "nbformat_minor": 2
}
