{
 "cells": [
  {
   "cell_type": "code",
   "execution_count": 7,
   "metadata": {},
   "outputs": [
    {
     "ename": "ERROR",
     "evalue": "Error in eval(expr, envir, enclos): object 'packages' not found\n",
     "output_type": "error",
     "traceback": [
      "Error in eval(expr, envir, enclos): object 'packages' not found\nTraceback:\n"
     ]
    }
   ],
   "source": [
    "packages.bioconductor<-c(\"biomaRt\",\"monocle\")\n",
    "packages.bioconductor.2install <- packages [!(packages.bioconductor\n",
    "    %in% installed.packages()[, \"Package\"])]\n",
    "\n",
    "if(length(packages.bioconductor.2install)>0){\n",
    "    for (i in 1:length(packages.bioconductor.2install)){\n",
    "        biocLite(packages.bioconductor.2install[i])\n",
    "    }\n",
    "}\n",
    "\n",
    "library(sincell)"
   ]
  },
  {
   "cell_type": "code",
   "execution_count": 6,
   "metadata": {},
   "outputs": [
    {
     "ename": "ERROR",
     "evalue": "Error in exprs(cds): object 'HSMM' not found\n",
     "output_type": "error",
     "traceback": [
      "Error in exprs(cds): object 'HSMM' not found\nTraceback:\n",
      "1. detectGenes(HSMM, min_expr = 0.1)",
      "2. Matrix::rowSums(exprs(cds) > min_expr)",
      "3. exprs(cds)"
     ]
    }
   ],
   "source": [
    "SMM <- detectGenes(HSMM, min_expr = 0.1)\n",
    "expressed_genes <- row.names(subset(fData(HSMM), num_cells_expressed >= 50))\n",
    "# The vector expressed_genes now holds the identifiers for genes expressed in\n",
    "# at least 50 cells of the data set.\n",
    "# Keeping expressed genes with q-value < 0.01\n",
    "diff_test_res <- differentialGeneTest(HSMM[expressed_genes,],fullModelFormulaStr = \"expression~Media\")\n",
    "ordering_genes <- row.names(subset(diff_test_res, qval < 0.01))\n",
    "HSMM <- HSMM[ordering_genes,]"
   ]
  },
  {
   "cell_type": "code",
   "execution_count": 5,
   "metadata": {},
   "outputs": [
    {
     "ename": "ERROR",
     "evalue": "Error in rownames(EMlog): object 'EMlog' not found\n",
     "output_type": "error",
     "traceback": [
      "Error in rownames(EMlog): object 'EMlog' not found\nTraceback:\n",
      "1. rownames(EMlog)"
     ]
    }
   ],
   "source": [
    "GeneEnsemblID<-rownames(EMlog)\n",
    "head(GeneEnsemblID)\n",
    "## [1] \"ENSG00000000460.12\" \"ENSG00000001630.11\" \"ENSG00000003989.12\"\n",
    "## [4] \"ENSG00000005448.12\" \"ENSG00000010292.8\"  \"ENSG00000011426.6\"\n",
    "GeneEnsemblID <- sapply( strsplit(GeneEnsemblID, split=\".\",fixed=TRUE),\"[\",1)\n",
    "head(GeneEnsemblID)\n",
    "## [1] \"ENSG00000000460\" \"ENSG00000001630\" \"ENSG00000003989\" \"ENSG00000005448\"\n",
    "## [5] \"ENSG00000010292\" \"ENSG00000011426\"\n",
    "library(\"biomaRt\")\n",
    "ensembl = useMart( \"ensembl\", dataset = \"hsapiens_gene_ensembl\" )\n",
    "genemap <- getBM( attributes = c(\"ensembl_gene_id\", \"entrezgene\", \"hgnc_symbol\"),\n",
    "filters = \"ensembl_gene_id\", values = GeneEnsemblID, mart = ensembl )\n",
    "idx <- match(GeneEnsemblID, genemap$ensembl_gene_id )\n",
    "GeneEntrez <- genemap$entrezgene[ idx ]\n",
    "GeneHGCN <- genemap$hgnc_symbol[ idx ]\n",
    "rownames(EMlog)[!is.na(GeneHGCN)&(GeneHGCN!=\"\")]<-\n",
    "GeneHGCN[!is.na(GeneHGCN)&(GeneHGCN!=\"\")]\n",
    "head(rownames(EMlog))"
   ]
  }
 ],
 "metadata": {
  "kernelspec": {
   "display_name": "R",
   "language": "R",
   "name": "ir"
  },
  "language_info": {
   "codemirror_mode": "r",
   "file_extension": ".r",
   "mimetype": "text/x-r-source",
   "name": "R",
   "pygments_lexer": "r",
   "version": "3.4.3"
  }
 },
 "nbformat": 4,
 "nbformat_minor": 2
}
